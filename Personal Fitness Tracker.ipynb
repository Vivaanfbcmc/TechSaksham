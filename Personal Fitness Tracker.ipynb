{
 "cells": [
  {
   "cell_type": "code",
   "execution_count": 11,
   "id": "2c6fa049-dc51-47b6-8696-b12bf22e3fd6",
   "metadata": {},
   "outputs": [
    {
     "name": "stdout",
     "output_type": "stream",
     "text": [
      "\n",
      "1. Add Workout\n",
      "2. View Workouts\n",
      "3. Save Data\n",
      "4. Load Data\n",
      "5. Exit\n"
     ]
    },
    {
     "name": "stdin",
     "output_type": "stream",
     "text": [
      "Please select an option:  1\n",
      "Enter workout type (e.g., pushups, running):  pushup\n",
      "Enter duration in minutes:  12\n",
      "Enter calories burned:  12\n"
     ]
    },
    {
     "name": "stdout",
     "output_type": "stream",
     "text": [
      "Workout added successfully!\n",
      "\n",
      "1. Add Workout\n",
      "2. View Workouts\n",
      "3. Save Data\n",
      "4. Load Data\n",
      "5. Exit\n"
     ]
    },
    {
     "name": "stdin",
     "output_type": "stream",
     "text": [
      "Please select an option:  2\n"
     ]
    },
    {
     "name": "stdout",
     "output_type": "stream",
     "text": [
      "No workouts recorded.\n",
      "\n",
      "1. Add Workout\n",
      "2. View Workouts\n",
      "3. Save Data\n",
      "4. Load Data\n",
      "5. Exit\n"
     ]
    },
    {
     "name": "stdin",
     "output_type": "stream",
     "text": [
      "Please select an option:  3\n",
      "Enter filename to save workouts (e.g., workouts.txt):  Vivaan\n"
     ]
    },
    {
     "name": "stdout",
     "output_type": "stream",
     "text": [
      "Data saved successfully to Vivaan!\n",
      "\n",
      "1. Add Workout\n",
      "2. View Workouts\n",
      "3. Save Data\n",
      "4. Load Data\n",
      "5. Exit\n"
     ]
    },
    {
     "name": "stdin",
     "output_type": "stream",
     "text": [
      "Please select an option:  4\n",
      "Enter filename to load workouts:  aditya\n"
     ]
    },
    {
     "name": "stdout",
     "output_type": "stream",
     "text": [
      "File not found. Please enter a valid filename.\n",
      "\n",
      "1. Add Workout\n",
      "2. View Workouts\n",
      "3. Save Data\n",
      "4. Load Data\n",
      "5. Exit\n"
     ]
    },
    {
     "name": "stdin",
     "output_type": "stream",
     "text": [
      "Please select an option:  vivaan\n"
     ]
    },
    {
     "name": "stdout",
     "output_type": "stream",
     "text": [
      "Invalid input, please enter a number.\n"
     ]
    },
    {
     "name": "stdin",
     "output_type": "stream",
     "text": [
      "Please select an option:  Vivaan\n"
     ]
    },
    {
     "name": "stdout",
     "output_type": "stream",
     "text": [
      "Invalid input, please enter a number.\n"
     ]
    },
    {
     "name": "stdin",
     "output_type": "stream",
     "text": [
      "Please select an option:  4\n",
      "Enter filename to load workouts:  Vivaan\n"
     ]
    },
    {
     "name": "stdout",
     "output_type": "stream",
     "text": [
      "Data loaded successfully from Vivaan!\n",
      "\n",
      "1. Add Workout\n",
      "2. View Workouts\n",
      "3. Save Data\n",
      "4. Load Data\n",
      "5. Exit\n"
     ]
    },
    {
     "name": "stdin",
     "output_type": "stream",
     "text": [
      "Please select an option:  2\n"
     ]
    },
    {
     "name": "stdout",
     "output_type": "stream",
     "text": [
      "2025-02-20: pushup for 12 minutes, 12 calories burned\n",
      "\n",
      "1. Add Workout\n",
      "2. View Workouts\n",
      "3. Save Data\n",
      "4. Load Data\n",
      "5. Exit\n"
     ]
    },
    {
     "name": "stdin",
     "output_type": "stream",
     "text": [
      "Please select an option:  5\n"
     ]
    },
    {
     "name": "stdout",
     "output_type": "stream",
     "text": [
      "Exiting program...\n"
     ]
    }
   ],
   "source": [
    "import datetime\n",
    "\n",
    "class Workout:\n",
    "    def __init__(self, type_of_workout, duration, calories_burned):\n",
    "        self.type_of_workout = type_of_workout\n",
    "        self.duration = duration\n",
    "        self.calories_burned = calories_burned\n",
    "        self.date = datetime.datetime.now().strftime('%Y-%m-%d')\n",
    "\n",
    "    def __str__(self):\n",
    "        return f\"{self.date}: {self.type_of_workout} for {self.duration} minutes, {self.calories_burned} calories burned\"\n",
    "\n",
    "class FitnessTracker:\n",
    "    def __init__(self):\n",
    "        self.workouts = []\n",
    "        self.data_loaded = False \n",
    "\n",
    "    def add_workout(self, workout):\n",
    "        self.workouts.append(workout)\n",
    "        print(\"Workout added successfully!\")\n",
    "\n",
    "    def view_workouts(self):\n",
    "        if not self.workouts or not self.data_loaded:\n",
    "            print(\"No workouts recorded.\")\n",
    "        else:\n",
    "            for workout in self.workouts:\n",
    "                print(workout)\n",
    "\n",
    "    def save_data(self):\n",
    "        filename = input(\"Enter filename to save workouts (e.g., workouts.txt): \").strip()\n",
    "        try:\n",
    "            with open(filename, 'w') as file:\n",
    "                for workout in self.workouts:\n",
    "                    file.write(str(workout) + '\\n')\n",
    "            self.data_loaded = True  \n",
    "            print(f\"Data saved successfully to {filename}!\")\n",
    "        except Exception as e:\n",
    "            print(f\"Error saving file: {e}\")\n",
    "\n",
    "    def load_data(self):\n",
    "        filename = input(\"Enter filename to load workouts: \").strip()\n",
    "        try:\n",
    "            with open(filename, 'r') as file:\n",
    "                self.workouts = [line.strip() for line in file.readlines()]\n",
    "                self.data_loaded = True  \n",
    "            print(f\"Data loaded successfully from {filename}!\")\n",
    "        except FileNotFoundError:\n",
    "            print(\"File not found. Please enter a valid filename.\")\n",
    "        except Exception as e:\n",
    "            print(f\"Error loading file: {e}\")\n",
    "\n",
    "\n",
    "def get_user_choice():\n",
    "    while True:\n",
    "        try:\n",
    "            choice = int(input(\"Please select an option: \"))\n",
    "            if 1 <= choice <= 5:\n",
    "                return choice\n",
    "            print(\"Invalid option, please select a valid choice.\")\n",
    "        except ValueError:\n",
    "            print(\"Invalid input, please enter a number.\")\n",
    "\n",
    "def get_positive_int(prompt):\n",
    "    while True:\n",
    "        try:\n",
    "            value = int(input(prompt))\n",
    "            if value > 0:\n",
    "                return value\n",
    "            print(\"Please enter a positive number.\")\n",
    "        except ValueError:\n",
    "            print(\"Invalid input. Enter a valid number.\")\n",
    "\n",
    "def add_workout(tracker):\n",
    "    type_of_workout = input(\"Enter workout type (e.g., pushups, running): \").strip()\n",
    "    duration = get_positive_int(\"Enter duration in minutes: \")\n",
    "    calories_burned = get_positive_int(\"Enter calories burned: \")\n",
    "\n",
    "    workout = Workout(type_of_workout, duration, calories_burned)\n",
    "    tracker.add_workout(workout)\n",
    "\n",
    "\n",
    "def main():\n",
    "    tracker = FitnessTracker()\n",
    "    while True:\n",
    "        print('''\\n1. Add Workout\n",
    "2. View Workouts\n",
    "3. Save Data\n",
    "4. Load Data\n",
    "5. Exit''')        \n",
    "        choice = get_user_choice()\n",
    "        if choice == 1:\n",
    "            add_workout(tracker)\n",
    "        elif choice == 2:\n",
    "            tracker.view_workouts()\n",
    "        elif choice == 3:\n",
    "            tracker.save_data()\n",
    "        elif choice == 4:\n",
    "            tracker.load_data()\n",
    "        elif choice == 5:\n",
    "            print(\"Exiting program...\")\n",
    "            break\n",
    "\n",
    "if __name__ == \"__main__\":\n",
    "    main()\n"
   ]
  },
  {
   "cell_type": "code",
   "execution_count": null,
   "id": "2e43f606-4f6a-402c-93df-f4d5ffc3c6eb",
   "metadata": {},
   "outputs": [],
   "source": []
  }
 ],
 "metadata": {
  "kernelspec": {
   "display_name": "Python 3 (ipykernel)",
   "language": "python",
   "name": "python3"
  },
  "language_info": {
   "codemirror_mode": {
    "name": "ipython",
    "version": 3
   },
   "file_extension": ".py",
   "mimetype": "text/x-python",
   "name": "python",
   "nbconvert_exporter": "python",
   "pygments_lexer": "ipython3",
   "version": "3.12.7"
  }
 },
 "nbformat": 4,
 "nbformat_minor": 5
}
