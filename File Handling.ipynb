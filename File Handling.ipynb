{
 "cells": [
  {
   "cell_type": "code",
   "execution_count": 1,
   "id": "716ad51a-047d-4c67-a0c6-6f0f00ee7700",
   "metadata": {},
   "outputs": [],
   "source": [
    "file_path = \"Textfile.txt\""
   ]
  },
  {
   "cell_type": "code",
   "execution_count": 3,
   "id": "bf81ae1d-d909-455e-927b-c3c836cdcb06",
   "metadata": {},
   "outputs": [],
   "source": [
    "our_text_file = open(file_path,'r')"
   ]
  },
  {
   "cell_type": "code",
   "execution_count": 5,
   "id": "193e6aad-45d9-429f-b630-d8451c2fe9f7",
   "metadata": {},
   "outputs": [
    {
     "name": "stdout",
     "output_type": "stream",
     "text": [
      "Textfile.txt\n",
      "r\n"
     ]
    }
   ],
   "source": [
    "print(our_text_file.name)\n",
    "print(our_text_file.mode)"
   ]
  },
  {
   "cell_type": "code",
   "execution_count": 7,
   "id": "03f24e12-7fe9-43f6-8249-52b7e95b6994",
   "metadata": {},
   "outputs": [],
   "source": [
    "our_text_file.close()"
   ]
  },
  {
   "cell_type": "code",
   "execution_count": 9,
   "id": "ed99815d-8a26-4551-9f79-5ceabc3a20bf",
   "metadata": {},
   "outputs": [
    {
     "name": "stdout",
     "output_type": "stream",
     "text": [
      "The concept of artificial intelligence (AI) has evolved significantly over the past few decades, impacting various industries and everyday life. AI encompasses machine learning, deep learning, and neural networks, allowing systems to process data, identify patterns, and make decisions with minimal human intervention. From virtual assistants like Siri and Alexa to self-driving cars and recommendation systems on Netflix, AI continues to enhance convenience and efficiency. \n",
      "\n",
      "One of the key applications of AI is in healthcare, where it aids in diagnosing diseases, predicting patient outcomes, and even assisting in robotic surgeries. Similarly, AI plays a crucial role in finance, detecting fraudulent transactions and optimizing trading strategies. In gaming, AI improves player experience by creating adaptive and responsive non-player characters (NPCs). \n",
      "\n",
      "Despite its benefits, AI also presents ethical concerns, such as job displacement and biases in decision-making algorithms. Responsible AI development is critical to ensuring fairness, transparency, and accountability. Governments and organizations are now focusing on implementing regulations to guide AI usage. \n",
      "\n",
      "As AI continues to evolve, its impact on society will only grow, shaping industries and daily interactions. The future of AI depends on responsible development and thoughtful integration into human-centric applications.\n"
     ]
    }
   ],
   "source": [
    "with open(file_path,\"r\") as active_file:\n",
    "  file_content = active_file.read()\n",
    "  print(file_content)"
   ]
  },
  {
   "cell_type": "code",
   "execution_count": 11,
   "id": "1670cbdd-861f-49f7-9272-b608c10c03f2",
   "metadata": {},
   "outputs": [
    {
     "name": "stdout",
     "output_type": "stream",
     "text": [
      "True\n"
     ]
    }
   ],
   "source": [
    "print(active_file.closed)"
   ]
  },
  {
   "cell_type": "code",
   "execution_count": 13,
   "id": "b101b739-88c4-4dc6-9fe6-10f11e1a2987",
   "metadata": {},
   "outputs": [
    {
     "name": "stdout",
     "output_type": "stream",
     "text": [
      "The concept of artificial intelligence (AI) has evolved significantly over the past few decades, impacting various industries and everyday life. AI encompasses machine learning, deep learning, and neural networks, allowing systems to process data, identify patterns, and make decisions with minimal human intervention. From virtual assistants like Siri and Alexa to self-driving cars and recommendation systems on Netflix, AI continues to enhance convenience and efficiency. \n",
      "\n",
      "One of the key applications of AI is in healthcare, where it aids in diagnosing diseases, predicting patient outcomes, and even assisting in robotic surgeries. Similarly, AI plays a crucial role in finance, detecting fraudulent transactions and optimizing trading strategies. In gaming, AI improves player experience by creating adaptive and responsive non-player characters (NPCs). \n",
      "\n",
      "Despite its benefits, AI also presents ethical concerns, such as job displacement and biases in decision-making algorithms. Responsible AI development is critical to ensuring fairness, transparency, and accountability. Governments and organizations are now focusing on implementing regulations to guide AI usage. \n",
      "\n",
      "As AI continues to evolve, its impact on society will only grow, shaping industries and daily interactions. The future of AI depends on responsible development and thoughtful integration into human-centric applications.\n"
     ]
    }
   ],
   "source": [
    "print(file_content)"
   ]
  },
  {
   "cell_type": "code",
   "execution_count": 15,
   "id": "1fc60b0c-1396-4e7e-ab9a-93d684f62444",
   "metadata": {},
   "outputs": [
    {
     "name": "stdout",
     "output_type": "stream",
     "text": [
      "1396\n"
     ]
    }
   ],
   "source": [
    "print(len(file_content))"
   ]
  },
  {
   "cell_type": "code",
   "execution_count": 21,
   "id": "773c7188-56ff-496f-8118-c217db1528dd",
   "metadata": {},
   "outputs": [
    {
     "name": "stdout",
     "output_type": "stream",
     "text": [
      "Unit 1: Introduction To Python - \n",
      "\n",
      "Introduction to Databases and SQL\n",
      "\n",
      "Reinforcement Learning Models\n",
      "\n"
     ]
    }
   ],
   "source": [
    "with open(file_path,\"r\") as active_file:\n",
    "  \n",
    "  file_content_list = active_file.readlines()\n",
    "\n",
    "  print(file_content_list[0]) \n",
    "  print(file_content_list[10]) \n",
    "  print(file_content_list[54]) "
   ]
  },
  {
   "cell_type": "code",
   "execution_count": 25,
   "id": "69c4b790-7ccf-437d-b7be-c34d7459cd1b",
   "metadata": {},
   "outputs": [
    {
     "name": "stdout",
     "output_type": "stream",
     "text": [
      "['Unit 1: Introduction To Python - \\n', '\\n', 'Intro to the Python Programming language\\n', 'Control structures and functions\\n', 'Importing libraries - Numpy and Pandas Basics\\n', 'Data wrangling and cleaning\\n', 'Exploratory Data Analysis and descriptive statistics\\n', '\\n', 'Unit 2: Database Management - \\n', '\\n', 'Introduction to Databases and SQL\\n', 'Retrieving data with SQL\\n', 'Writing SQL Queries\\n', 'Functions and aggregations\\n', 'Joins in SQL\\n', '\\n', 'Unit 3: Statistics and Data Visualisation - \\n', '\\n', 'Data Visualisation using matplotlib/seaborn\\n', 'Plotting Data distributions\\n', 'Introduction to Probability\\n', 'Discrete and Continuous probability distributions\\n', 'Inferential Statistics and Hypothesis testing\\n', '\\n', 'Unit 4: Machine Learning:\\n', '\\n', 'Introduction to machine learning models \\n', 'Simple and Multiple Regression Models\\n', 'Logistic Regression\\n', 'ROC and AUC analysis\\n', 'KNN and Naive Bayes classifier\\n', 'SVM Classification and Regression\\n', 'Tree Based models:\\n', '- Decision trees\\n', '- Truncation and pruning\\n', '- Random Forests and Bagged models\\n', '- Gradient Boosted models\\n', 'Feature selection methods \\n', 'Model evaluation and hyperparameter tuning \\n', 'Unsupervised Learning:\\n', '- Clustering (K means and Hierarchical)\\n', '- Principal Component Analysis\\n', 'Recommender Systems\\n', '\\n', 'Unit 5 - Artificial Intelligence:\\n', '\\n', 'Intro to Neural Networks\\n', 'Types of Neural Networks\\n', 'Image classification\\n', 'Deep Learning Neural Networks\\n', '\\n', 'Intro to NLP\\n', 'Basic Lexical processing\\n', 'Text classification / Topic modelling / Document summarisation\\n', 'Reinforcement Learning Models\\n', '\\n', 'Notes:\\n', '\\n', 'Unit 5 could probability be split in 2 depending on how comprehensive the coverage is']\n",
      "59\n"
     ]
    }
   ],
   "source": [
    "with open(file_path,\"r\") as active_file:\n",
    "  file_content_list = active_file.readlines()\n",
    "  print(file_content_list)\n",
    "  print(len(file_content_list))"
   ]
  },
  {
   "cell_type": "code",
   "execution_count": null,
   "id": "8ae23923-0d4e-49cd-a28d-354f3609e6c0",
   "metadata": {},
   "outputs": [],
   "source": []
  }
 ],
 "metadata": {
  "kernelspec": {
   "display_name": "Python 3 (ipykernel)",
   "language": "python",
   "name": "python3"
  },
  "language_info": {
   "codemirror_mode": {
    "name": "ipython",
    "version": 3
   },
   "file_extension": ".py",
   "mimetype": "text/x-python",
   "name": "python",
   "nbconvert_exporter": "python",
   "pygments_lexer": "ipython3",
   "version": "3.12.7"
  }
 },
 "nbformat": 4,
 "nbformat_minor": 5
}
