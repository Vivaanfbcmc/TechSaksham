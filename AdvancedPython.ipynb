{
 "cells": [
  {
   "cell_type": "code",
   "execution_count": 6,
   "id": "51b27e94-5c87-416e-bc29-77bea20ceabc",
   "metadata": {},
   "outputs": [
    {
     "name": "stdin",
     "output_type": "stream",
     "text": [
      "Enter number 1:  1\n",
      "Enter number 2:  23\n"
     ]
    },
    {
     "name": "stdout",
     "output_type": "stream",
     "text": [
      "\n",
      "1. Addition (+)\n",
      "2. Subtraction (-)\n",
      "3. Multiplication (*)\n",
      "4. Division (/)\n",
      "\n"
     ]
    },
    {
     "name": "stdin",
     "output_type": "stream",
     "text": [
      "Enter operation (+, -, *, /):  4\n"
     ]
    },
    {
     "name": "stdout",
     "output_type": "stream",
     "text": [
      "Invalid choice\n",
      "Result: 12929.0\n"
     ]
    },
    {
     "name": "stdin",
     "output_type": "stream",
     "text": [
      "Enter operation (+, -, *, /) or 'exit' to stop:  5\n",
      "Enter next number:  exit\n"
     ]
    },
    {
     "ename": "ValueError",
     "evalue": "could not convert string to float: 'exit'",
     "output_type": "error",
     "traceback": [
      "\u001b[1;31m---------------------------------------------------------------------------\u001b[0m",
      "\u001b[1;31mValueError\u001b[0m                                Traceback (most recent call last)",
      "Cell \u001b[1;32mIn[6], line 54\u001b[0m\n\u001b[0;32m     51\u001b[0m     \u001b[38;5;28mprint\u001b[39m(\u001b[38;5;124m\"\u001b[39m\u001b[38;5;124mFinal Result:\u001b[39m\u001b[38;5;124m\"\u001b[39m, result)\n\u001b[0;32m     52\u001b[0m     \u001b[38;5;28;01mbreak\u001b[39;00m\n\u001b[1;32m---> 54\u001b[0m num \u001b[38;5;241m=\u001b[39m \u001b[38;5;28mfloat\u001b[39m(\u001b[38;5;28minput\u001b[39m(\u001b[38;5;124m\"\u001b[39m\u001b[38;5;124mEnter next number: \u001b[39m\u001b[38;5;124m\"\u001b[39m))\n\u001b[0;32m     56\u001b[0m \u001b[38;5;28;01mif\u001b[39;00m operation \u001b[38;5;241m==\u001b[39m \u001b[38;5;124m\"\u001b[39m\u001b[38;5;124m+\u001b[39m\u001b[38;5;124m\"\u001b[39m:\n\u001b[0;32m     57\u001b[0m     result \u001b[38;5;241m=\u001b[39m calc\u001b[38;5;241m.\u001b[39msum(result, num)\n",
      "\u001b[1;31mValueError\u001b[0m: could not convert string to float: 'exit'"
     ]
    }
   ],
   "source": [
    "class Calculator:\n",
    "    def __init__(self):\n",
    "        pass  \n",
    "\n",
    "    def sum(self, a, b):\n",
    "        return a + b\n",
    "\n",
    "    def subtract(self, a, b):\n",
    "        return a - b\n",
    "\n",
    "    def multiply(self, a, b):\n",
    "        return a * b\n",
    "\n",
    "    def division(self, a, b):\n",
    "        if b == 0:\n",
    "            return \"Error: Division by zero\"\n",
    "        return a / b\n",
    "\n",
    "calc = Calculator()\n",
    "\n",
    "num1 = float(input(\"Enter number 1: \"))\n",
    "num2 = float(input(\"Enter number 2: \"))\n",
    "\n",
    "print('''\n",
    "1. Addition (+)\n",
    "2. Subtraction (-)\n",
    "3. Multiplication (*)\n",
    "4. Division (/)\n",
    "''')\n",
    "\n",
    "choice = input(\"Enter operation (+, -, *, /): \")\n",
    "\n",
    "if choice == \"+\":\n",
    "    result = calc.sum(num1, num2)\n",
    "elif choice == \"-\":\n",
    "    result = calc.subtract(num1, num2)\n",
    "elif choice == \"*\":\n",
    "    result = calc.multiply(num1, num2)\n",
    "elif choice == \"/\":\n",
    "    result = calc.division(num1, num2)\n",
    "else:\n",
    "    print(\"Invalid choice\")\n",
    "    exit()\n",
    "\n",
    "print(\"Result:\", result)\n",
    "\n",
    "while True:\n",
    "    operation = input(\"Enter operation (+, -, *, /) or 'exit' to stop: \")\n",
    "    \n",
    "    if operation.lower() == \"exit\":\n",
    "        print(\"Final Result:\", result)\n",
    "        break\n",
    "    \n",
    "    num = float(input(\"Enter next number: \"))\n",
    "\n",
    "    if operation == \"+\":\n",
    "        result = calc.sum(result, num)\n",
    "    elif operation == \"-\":\n",
    "        result = calc.subtract(result, num)\n",
    "    elif operation == \"*\":\n",
    "        result = calc.multiply(result, num)\n",
    "    elif operation == \"/\":\n",
    "        result = calc.division(result, num)\n",
    "    else:\n",
    "        print(\"Invalid operation, please try again.\")\n",
    "        continue\n",
    "\n",
    "    print(\"Result:\", result)\n"
   ]
  },
  {
   "cell_type": "code",
   "execution_count": 4,
   "id": "f3e47828-bc7a-40ba-b7b5-33378b891ba8",
   "metadata": {},
   "outputs": [
    {
     "name": "stdin",
     "output_type": "stream",
     "text": [
      "Enter calculation (e.g., '4 + 5 / 3 * 3'):  3 + 4 - 243\n"
     ]
    },
    {
     "name": "stdout",
     "output_type": "stream",
     "text": [
      "Result: -236\n"
     ]
    },
    {
     "name": "stdin",
     "output_type": "stream",
     "text": [
      "Enter next operation (e.g., '- 5') or 'exit' to stop:  exit\n"
     ]
    },
    {
     "name": "stdout",
     "output_type": "stream",
     "text": [
      "Final Result: -236\n"
     ]
    }
   ],
   "source": [
    "import re\n",
    "\n",
    "class Calculator:\n",
    "    def __init__(self):\n",
    "        pass  \n",
    "\n",
    "    def evaluate_expression(self, expression):\n",
    "        try:\n",
    "            if not re.match(r'^[\\d+\\-*/().\\s]+$', expression):\n",
    "                return \"Error: Invalid characters in input\"\n",
    "            \n",
    "            result = eval(expression)  \n",
    "            return result\n",
    "        except ZeroDivisionError:\n",
    "            return \"Error: Division by zero\"\n",
    "        except Exception:\n",
    "            return \"Error: Invalid expression\"\n",
    "\n",
    "\n",
    "calc = Calculator()\n",
    "results = []\n",
    "\n",
    "expression = input(\"Enter calculation (e.g., '4 + 5 / 3 * 3'): \")\n",
    "\n",
    "result = calc.evaluate_expression(expression)\n",
    "if isinstance(result, str):  # If there's an error, exit\n",
    "    print(result)\n",
    "    exit()\n",
    "\n",
    "results.append(result)\n",
    "print(\"Result:\", result)\n",
    "\n",
    "\n",
    "while True:\n",
    "    expression = input(\"Enter next operation (e.g., '- 5') or 'exit' to stop: \")\n",
    "    \n",
    "    if expression.lower() == \"exit\":\n",
    "        print(\"Final Result:\", results[0])\n",
    "        break\n",
    "\n",
    "    new_expression = f\"{results[0]} {expression}\"\n",
    "\n",
    "    result = calc.evaluate_expression(new_expression)\n",
    "    if isinstance(result, str):  # If there's an error, continue loop\n",
    "        print(result)\n",
    "        continue\n",
    "\n",
    "    results[0] = result\n",
    "    print(\"Result:\", results[0])\n"
   ]
  },
  {
   "cell_type": "code",
   "execution_count": 10,
   "id": "f1659145-9b39-4eb5-829a-8ecb5d340589",
   "metadata": {},
   "outputs": [
    {
     "name": "stdin",
     "output_type": "stream",
     "text": [
      "Press Enter to flip the coin (or type 'exit' to stop):  exit\n",
      " exit\n"
     ]
    },
    {
     "name": "stdout",
     "output_type": "stream",
     "text": [
      "Coin flipping stopped.\n"
     ]
    },
    {
     "data": {
      "text/plain": [
       "'dadnad'"
      ]
     },
     "execution_count": 10,
     "metadata": {},
     "output_type": "execute_result"
    }
   ],
   "source": [
    "import random as rand\n",
    "\n",
    "def coin_flip():\n",
    "    return \"Heads\" if rand.randint(0, 1) == 0 else \"Tails\"\n",
    "\n",
    "while True:\n",
    "    input(\"Press Enter to flip the coin (or type 'exit' to stop): \")\n",
    "    if input().lower() == \"exit\":\n",
    "        print(\"Coin flipping stopped.\")\n",
    "        break\n",
    "    print(\"Result:\", coin_flip())\n",
    "\n",
    "'''dadnad'''"
   ]
  },
  {
   "cell_type": "code",
   "execution_count": 14,
   "id": "f80c48be-5539-45d1-942c-586aab52d77d",
   "metadata": {},
   "outputs": [
    {
     "name": "stdin",
     "output_type": "stream",
     "text": [
      "Enter names separated by commas:  Vivaan,Doshi,Karan,Jagrut,Atharva,Aditya\n"
     ]
    },
    {
     "name": "stdout",
     "output_type": "stream",
     "text": [
      "Random Person who will pay: Karan\n"
     ]
    }
   ],
   "source": [
    "import random as rand\n",
    "\n",
    "class RandBill:\n",
    "    def __init__(self):\n",
    "        pass\n",
    "\n",
    "    @staticmethod\n",
    "    def person(a):\n",
    "        if not isinstance(a, list) or len(a) == 0:\n",
    "            return \"Error: Please provide a non-empty list of names.\"\n",
    "\n",
    "        user_dict = {i: a[i] for i in range(len(a))}\n",
    "        \n",
    "        random_index = rand.randrange(len(user_dict))\n",
    "        \n",
    "        return user_dict[random_index]\n",
    "\n",
    "people = input(\"Enter names separated by commas: \").split(\",\")\n",
    "\n",
    "people = [name.strip() for name in people if name.strip()]\n",
    "\n",
    "if not people:\n",
    "    print(\"Error: No valid names entered.\")\n",
    "else:\n",
    "    print(\"Random Person who will pay:\", RandBill.person(people))\n"
   ]
  },
  {
   "cell_type": "code",
   "execution_count": 16,
   "id": "a1fe884b-2612-4b15-9802-8faae2ab3425",
   "metadata": {},
   "outputs": [
    {
     "name": "stdin",
     "output_type": "stream",
     "text": [
      "Enter names separated by commas:  da\n"
     ]
    },
    {
     "name": "stdout",
     "output_type": "stream",
     "text": [
      "da has been selected to pay the bill!\n"
     ]
    }
   ],
   "source": [
    "import random as rand\n",
    "\n",
    "people = input(\"Enter names separated by commas: \").split(\",\")\n",
    "\n",
    "people = [name.strip() for name in people if name.strip()]\n",
    "\n",
    "if not people:\n",
    "    print(\"Error: No valid names entered.\")\n",
    "else:\n",
    "    random_index = rand.randint(0, len(people) - 1)\n",
    "    print(f\"{people[random_index]} has been selected to pay the bill!\")\n"
   ]
  },
  {
   "cell_type": "code",
   "execution_count": null,
   "id": "d009dacd-de82-44aa-8142-dcde65addc03",
   "metadata": {},
   "outputs": [
    {
     "name": "stdout",
     "output_type": "stream",
     "text": [
      "NUMBER GUESSING GAME!\n",
      "I have selected a number between 1 and 100. You have 10 attempts.\n"
     ]
    }
   ],
   "source": [
    "import random as rand\n",
    "\n",
    "secret_number = rand.randint(1, 100)\n",
    "\n",
    "print(\"NUMBER GUESSING GAME!\")\n",
    "print(\"I have selected a number between 1 and 100. You have 10 attempts.\")\n",
    "\n",
    "x = 0  \n",
    "max_attempts = 10\n",
    "\n",
    "while x < max_attempts:\n",
    "    guess = int(input(\"Attempt {}/{} - Enter your guess: \".format(x + 1, max_attempts)))\n",
    "    x += 1 \n",
    "\n",
    "    if guess < 1 or guess > 100:\n",
    "        print(\"Please guess a number between 1 and 100.\")\n",
    "    elif guess < secret_number:\n",
    "        print(\"Too low! Try again. Remaining attempts: {}\".format(max_attempts - x))\n",
    "    elif guess > secret_number:\n",
    "        print(\"Too high! Try again. Remaining attempts: {}\".format(max_attempts - x))\n",
    "    else:\n",
    "        print(\"Congratulations! You guessed the number {} correctly in {} attempts!\".format(secret_number, x))\n",
    "        break  \n",
    "\n",
    "if x == max_attempts:\n",
    "    print(\"Game Over! The correct number was {}. Better luck next time!\".format(secret_number))\n"
   ]
  },
  {
   "cell_type": "code",
   "execution_count": 5,
   "id": "b8e481a9-2d20-4cd5-b0cc-6110c4d43145",
   "metadata": {},
   "outputs": [
    {
     "name": "stdout",
     "output_type": "stream",
     "text": [
      "hello Python\n"
     ]
    }
   ],
   "source": [
    "s = \"hello world\"\n",
    "print(s.replace(\"world\", \"Python\"))\n"
   ]
  },
  {
   "cell_type": "code",
   "execution_count": 1,
   "id": "006525a9-f87d-4bf6-bf99-cf1dc2419e0f",
   "metadata": {},
   "outputs": [
    {
     "name": "stdin",
     "output_type": "stream",
     "text": [
      "Enter password:  badhab^21\n"
     ]
    },
    {
     "name": "stdout",
     "output_type": "stream",
     "text": [
      "Password is strong!\n"
     ]
    }
   ],
   "source": [
    "password = input(\"Enter password: \")\n",
    "\n",
    "if 8 <= len(password) <= 16:\n",
    "    has_letter = False\n",
    "    has_digit = False\n",
    "    has_special = False\n",
    "\n",
    "    special_chars = \"<>?#!@$%^&*\"\n",
    "\n",
    "    for char in password:\n",
    "        if char.isalpha():\n",
    "            has_letter = True\n",
    "        elif char.isdigit():\n",
    "            has_digit = True\n",
    "        elif char in special_chars:\n",
    "            has_special = True\n",
    "\n",
    "    if has_letter and has_digit and has_special:\n",
    "        print(\"Password is strong!\")\n",
    "    else:\n",
    "        print(\"Password must contain at least one letter, one digit, and one special character.\")\n",
    "else:\n",
    "    print(\"Password length must be between 9 and 15 characters.\")\n"
   ]
  },
  {
   "cell_type": "code",
   "execution_count": 17,
   "id": "7ad7c368-61f4-416b-88db-cc3adf17f6ec",
   "metadata": {},
   "outputs": [
    {
     "name": "stdin",
     "output_type": "stream",
     "text": [
      "Enter numbers separated by space:  4 214 5 5\n"
     ]
    },
    {
     "name": "stdout",
     "output_type": "stream",
     "text": [
      "Sum of unique numbers: 223\n"
     ]
    }
   ],
   "source": [
    "def listsum(numbers):  \n",
    "    total = 0\n",
    "    for num in numbers:\n",
    "        total += int(num) \n",
    "    return total  \n",
    "\n",
    "string = input('Enter numbers separated by space: ')  \n",
    "newstring = string.split(\" \")  \n",
    "sumstring = []  \n",
    "for i in newstring:  \n",
    "    if i.isdigit():  \n",
    "        if i not in sumstring:  \n",
    "            sumstring.append(i)  \n",
    "\n",
    "total = listsum(sumstring)  \n",
    "\n",
    "print(\"Sum of unique numbers:\", total)\n"
   ]
  },
  {
   "cell_type": "code",
   "execution_count": 19,
   "id": "0ddb171b-319a-48af-8a82-1f7aa6038bbf",
   "metadata": {},
   "outputs": [
    {
     "name": "stdin",
     "output_type": "stream",
     "text": [
      "Enter a string:  dnajkBFU:nfkl 1uirh 8onil kj1buifdqion rui\n",
      "Enter the character to count:  a\n"
     ]
    },
    {
     "name": "stdout",
     "output_type": "stream",
     "text": [
      "The character 'a' appears 1 times in the string.\n"
     ]
    }
   ],
   "source": [
    "string = input(\"Enter a string: \")  \n",
    "char = input(\"Enter the character to count: \")  \n",
    "\n",
    "count = 0  \n",
    "for i in string:  \n",
    "    if i == char:  \n",
    "        count += 1  \n",
    "\n",
    "print(f\"The character '{char}' appears {count} times in the string.\")\n"
   ]
  },
  {
   "cell_type": "code",
   "execution_count": 37,
   "id": "07225181-53d7-4d16-b4ee-8e6fddf3692c",
   "metadata": {},
   "outputs": [
    {
     "name": "stdout",
     "output_type": "stream",
     "text": [
      "FizzBuzz\n",
      "1\n",
      "2\n",
      "Fizz\n",
      "4\n",
      "Buzz\n",
      "Fizz\n",
      "7\n",
      "8\n",
      "Fizz\n",
      "Buzz\n",
      "11\n",
      "Fizz\n",
      "13\n",
      "14\n",
      "FizzBuzz\n",
      "16\n",
      "17\n",
      "Fizz\n",
      "19\n",
      "Buzz\n",
      "Fizz\n",
      "22\n",
      "23\n",
      "Fizz\n",
      "Buzz\n",
      "26\n",
      "Fizz\n",
      "28\n",
      "29\n",
      "FizzBuzz\n",
      "31\n",
      "32\n",
      "Fizz\n",
      "34\n",
      "Buzz\n",
      "Fizz\n",
      "37\n",
      "38\n",
      "Fizz\n",
      "Buzz\n",
      "41\n",
      "Fizz\n",
      "43\n",
      "44\n",
      "FizzBuzz\n",
      "46\n",
      "47\n",
      "Fizz\n",
      "49\n",
      "Buzz\n",
      "Fizz\n",
      "52\n",
      "53\n",
      "Fizz\n",
      "Buzz\n",
      "56\n",
      "Fizz\n",
      "58\n",
      "59\n",
      "FizzBuzz\n",
      "61\n",
      "62\n",
      "Fizz\n",
      "64\n",
      "Buzz\n",
      "Fizz\n",
      "67\n",
      "68\n",
      "Fizz\n",
      "Buzz\n",
      "71\n",
      "Fizz\n",
      "73\n",
      "74\n",
      "FizzBuzz\n",
      "76\n",
      "77\n",
      "Fizz\n",
      "79\n",
      "Buzz\n",
      "Fizz\n",
      "82\n",
      "83\n",
      "Fizz\n",
      "Buzz\n",
      "86\n",
      "Fizz\n",
      "88\n",
      "89\n",
      "FizzBuzz\n",
      "91\n",
      "92\n",
      "Fizz\n",
      "94\n",
      "Buzz\n",
      "Fizz\n",
      "97\n",
      "98\n",
      "Fizz\n"
     ]
    }
   ],
   "source": [
    "for i in range(0,100):    \n",
    "    if i%3==0 and i%5 != 0:\n",
    "            print(\"Fizz\")\n",
    "    elif i%5==0 and i%3 !=0:\n",
    "            print(\"Buzz\")\n",
    "    elif i%3==0 and i%5==0:\n",
    "        print(\"FizzBuzz\")\n",
    "    else:\n",
    "        print(i)\n",
    "        "
   ]
  },
  {
   "cell_type": "code",
   "execution_count": 35,
   "id": "b92588be-4ba2-46e5-a832-9df1540f8401",
   "metadata": {},
   "outputs": [
    {
     "name": "stdin",
     "output_type": "stream",
     "text": [
      "Enter the lenght of password 20\n"
     ]
    },
    {
     "name": "stdout",
     "output_type": "stream",
     "text": [
      "S!CdvE-(M(n.E!UlIN^0a\n"
     ]
    }
   ],
   "source": [
    "import random as rand\n",
    "password = \"\"\n",
    "length = int(input(\"Enter the lenght of password\"))\n",
    "if 8 <= length <=20:\n",
    "    for i in range(length+1):\n",
    "        a = (chr(rand.randint(33,126)))\n",
    "        password += a\n",
    "else:\n",
    "    print(\"Enter correct length\")\n",
    "print(password)"
   ]
  },
  {
   "cell_type": "code",
   "execution_count": 47,
   "id": "d8c6aec4-eb2f-4640-9d80-3e20ed9d3f5d",
   "metadata": {},
   "outputs": [
    {
     "name": "stdin",
     "output_type": "stream",
     "text": [
      "Enter your choice (rock, paper, scissor):  rock\n"
     ]
    },
    {
     "name": "stdout",
     "output_type": "stream",
     "text": [
      "Computer chose: scissor\n",
      "Player wins!\n"
     ]
    }
   ],
   "source": [
    "import random as rand\n",
    "\n",
    "player = input(\"Enter your choice (rock, paper, scissor): \").lower()\n",
    "\n",
    "if player in [\"rock\", \"paper\", \"scissor\"]:\n",
    "    comp = [\"rock\", \"paper\", \"scissor\"]\n",
    "    compchoice = rand.choice(comp)\n",
    "\n",
    "    print(\"Computer chose: {}\".format(compchoice))\n",
    "\n",
    "    if player == compchoice:\n",
    "        print(\"It's a draw!\")\n",
    "    elif (player == \"rock\" and compchoice == \"scissor\") or (player == \"paper\" and compchoice == \"rock\") or (player == \"scissor\" and compchoice == \"paper\"):\n",
    "        print(\"Player wins!\")\n",
    "    else:\n",
    "        print(\"Player loses!\")\n",
    "\n",
    "else:\n",
    "    print(\"Please type a correct option.\")\n"
   ]
  },
  {
   "cell_type": "code",
   "execution_count": null,
   "id": "075f1967-2d5e-436b-9fda-fb386f9f23fe",
   "metadata": {},
   "outputs": [],
   "source": []
  }
 ],
 "metadata": {
  "kernelspec": {
   "display_name": "Python 3 (ipykernel)",
   "language": "python",
   "name": "python3"
  },
  "language_info": {
   "codemirror_mode": {
    "name": "ipython",
    "version": 3
   },
   "file_extension": ".py",
   "mimetype": "text/x-python",
   "name": "python",
   "nbconvert_exporter": "python",
   "pygments_lexer": "ipython3",
   "version": "3.12.7"
  }
 },
 "nbformat": 4,
 "nbformat_minor": 5
}
