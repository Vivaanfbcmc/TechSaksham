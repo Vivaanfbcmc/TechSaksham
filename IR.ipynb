{
 "cells": [
  {
   "cell_type": "code",
   "execution_count": 2,
   "id": "7416d11d-99f3-49c0-a858-ffeef0a9c8cd",
   "metadata": {},
   "outputs": [
    {
     "name": "stdout",
     "output_type": "stream",
     "text": [
      "Hello World\n"
     ]
    }
   ],
   "source": [
    "print(\"Hello World\")"
   ]
  },
  {
   "cell_type": "code",
   "execution_count": 24,
   "id": "ed933ae6-3c2c-435d-8cf7-61624cea8e63",
   "metadata": {},
   "outputs": [
    {
     "data": {
      "text/plain": [
       "' This is a training session offered by techsaksham\\nIt is going to last till the 26th of this month'"
      ]
     },
     "execution_count": 24,
     "metadata": {},
     "output_type": "execute_result"
    }
   ],
   "source": [
    "''' This is a training session offered by techsaksham\n",
    "It is going to last till the 26th of this month'''"
   ]
  },
  {
   "cell_type": "code",
   "execution_count": 8,
   "id": "a34fa8bb-adf0-4e5c-a531-9fbb1c572ed4",
   "metadata": {},
   "outputs": [
    {
     "name": "stdout",
     "output_type": "stream",
     "text": [
      "Welcome to FDP on AI\n",
      "I am Vivaan Vivek Patange\n"
     ]
    }
   ],
   "source": [
    "print(\"Welcome to FDP on AI\")\n",
    "print(\"I am Vivaan Vivek Patange\")"
   ]
  },
  {
   "cell_type": "code",
   "execution_count": 38,
   "id": "8f2a9ba8-6e7a-4b07-8fab-49d928d4bd3a",
   "metadata": {},
   "outputs": [
    {
     "name": "stdout",
     "output_type": "stream",
     "text": [
      "14\n"
     ]
    }
   ],
   "source": [
    "a=\"This is a test\"\n",
    "print(len(a))"
   ]
  },
  {
   "cell_type": "code",
   "execution_count": 40,
   "id": "3d066b9f-f857-4656-8ac4-9d1af065f30b",
   "metadata": {},
   "outputs": [
    {
     "data": {
      "text/plain": [
       "'i'"
      ]
     },
     "execution_count": 40,
     "metadata": {},
     "output_type": "execute_result"
    }
   ],
   "source": [
    "a[5]"
   ]
  },
  {
   "cell_type": "code",
   "execution_count": 42,
   "id": "e4774533-d351-4733-865a-b3a25e6bc6fc",
   "metadata": {},
   "outputs": [
    {
     "data": {
      "text/plain": [
       "'This '"
      ]
     },
     "execution_count": 42,
     "metadata": {},
     "output_type": "execute_result"
    }
   ],
   "source": [
    "a[:5]"
   ]
  },
  {
   "cell_type": "code",
   "execution_count": 44,
   "id": "192cb2cb-1705-41f9-9443-ff32d7374276",
   "metadata": {},
   "outputs": [
    {
     "data": {
      "text/plain": [
       "'is a test'"
      ]
     },
     "execution_count": 44,
     "metadata": {},
     "output_type": "execute_result"
    }
   ],
   "source": [
    "a[5:]"
   ]
  },
  {
   "cell_type": "code",
   "execution_count": 46,
   "id": "f941d60a-bfff-4882-95ce-1f5c2f930adc",
   "metadata": {},
   "outputs": [
    {
     "name": "stdout",
     "output_type": "stream",
     "text": [
      "This is a test this is an addition to the string\n"
     ]
    }
   ],
   "source": [
    "b = a + \" this is an addition to the string\"\n",
    "print(b)"
   ]
  },
  {
   "cell_type": "code",
   "execution_count": 48,
   "id": "0919ed22-6a8a-441c-bdd8-c95a53f68a45",
   "metadata": {},
   "outputs": [
    {
     "data": {
      "text/plain": [
       "'THIS IS A TEST'"
      ]
     },
     "execution_count": 48,
     "metadata": {},
     "output_type": "execute_result"
    }
   ],
   "source": [
    "a.upper()"
   ]
  },
  {
   "cell_type": "code",
   "execution_count": 50,
   "id": "eff4006a-f289-4046-9de6-1f8a1fab83e4",
   "metadata": {},
   "outputs": [
    {
     "data": {
      "text/plain": [
       "'this is a test this is an addition to the string'"
      ]
     },
     "execution_count": 50,
     "metadata": {},
     "output_type": "execute_result"
    }
   ],
   "source": [
    "b.lower()"
   ]
  },
  {
   "cell_type": "code",
   "execution_count": 52,
   "id": "40d6594b-b89a-48a8-89c6-7689b8e4accd",
   "metadata": {},
   "outputs": [
    {
     "data": {
      "text/plain": [
       "['This',\n",
       " 'is',\n",
       " 'a',\n",
       " 'test',\n",
       " 'this',\n",
       " 'is',\n",
       " 'an',\n",
       " 'addition',\n",
       " 'to',\n",
       " 'the',\n",
       " 'string']"
      ]
     },
     "execution_count": 52,
     "metadata": {},
     "output_type": "execute_result"
    }
   ],
   "source": [
    "b.split()"
   ]
  },
  {
   "cell_type": "code",
   "execution_count": 54,
   "id": "cf7c2e3c-7366-4e3b-993d-1f10e0dc947f",
   "metadata": {},
   "outputs": [
    {
     "name": "stdout",
     "output_type": "stream",
     "text": [
      "We are printing numbers with variables this is 1 and this is 2\n"
     ]
    }
   ],
   "source": [
    "print(\"We are printing numbers with variables this is {} and this is {}\".format(1,2))"
   ]
  },
  {
   "cell_type": "code",
   "execution_count": 56,
   "id": "4683f3a3-c8c8-43b8-9718-3e8c3d3f932b",
   "metadata": {},
   "outputs": [
    {
     "name": "stdout",
     "output_type": "stream",
     "text": [
      "now here we add identifiers to the brackets ou and go out of order for the next This is a test this is an addition to the string and 8\n"
     ]
    }
   ],
   "source": [
    "print(\"now here we add identifiers to the brackets {a} and go out of order for the next {c} and {b}\".format(a='ou',b=8,c=b))"
   ]
  },
  {
   "cell_type": "code",
   "execution_count": 58,
   "id": "a117fb66-79a2-4393-8670-e03be6e7e25a",
   "metadata": {},
   "outputs": [
    {
     "data": {
      "text/plain": [
       "[1, 2, 3, 4, 5, 6]"
      ]
     },
     "execution_count": 58,
     "metadata": {},
     "output_type": "execute_result"
    }
   ],
   "source": [
    "my_list = [1,2,3,4,5,6]\n",
    "my_list"
   ]
  },
  {
   "cell_type": "code",
   "execution_count": 60,
   "id": "199dc278-5a8a-46a5-8e98-128d02ccead5",
   "metadata": {},
   "outputs": [
    {
     "data": {
      "text/plain": [
       "['Edunet', 3, 10.2, 'A', 32, 3]"
      ]
     },
     "execution_count": 60,
     "metadata": {},
     "output_type": "execute_result"
    }
   ],
   "source": [
    "my_list = ['Edunet',3,10.2,'A',32,3]\n",
    "my_list"
   ]
  },
  {
   "cell_type": "code",
   "execution_count": 62,
   "id": "3ac42155-524d-47ba-9358-ced14b99771d",
   "metadata": {},
   "outputs": [
    {
     "data": {
      "text/plain": [
       "6"
      ]
     },
     "execution_count": 62,
     "metadata": {},
     "output_type": "execute_result"
    }
   ],
   "source": [
    "len(my_list)"
   ]
  },
  {
   "cell_type": "code",
   "execution_count": 64,
   "id": "1ca1632c-03e1-4089-af29-8718d6c4c1db",
   "metadata": {},
   "outputs": [
    {
     "data": {
      "text/plain": [
       "'Edunet'"
      ]
     },
     "execution_count": 64,
     "metadata": {},
     "output_type": "execute_result"
    }
   ],
   "source": [
    "my_list[0]"
   ]
  },
  {
   "cell_type": "code",
   "execution_count": 66,
   "id": "88474af8-5cd9-43a5-9a83-b580765508a9",
   "metadata": {},
   "outputs": [
    {
     "data": {
      "text/plain": [
       "[3, 10.2, 'A', 32, 3]"
      ]
     },
     "execution_count": 66,
     "metadata": {},
     "output_type": "execute_result"
    }
   ],
   "source": [
    "my_list[1:]"
   ]
  },
  {
   "cell_type": "code",
   "execution_count": 68,
   "id": "f802fc80-1514-4784-9564-0a398501ba2d",
   "metadata": {},
   "outputs": [
    {
     "data": {
      "text/plain": [
       "['Edunet', 3, 10.2, 'A', 32, 3, 'new item']"
      ]
     },
     "execution_count": 68,
     "metadata": {},
     "output_type": "execute_result"
    }
   ],
   "source": [
    "my_list + ['new item']"
   ]
  },
  {
   "cell_type": "code",
   "execution_count": 70,
   "id": "68665c80-6188-436b-980a-301e0674f1f0",
   "metadata": {},
   "outputs": [
    {
     "data": {
      "text/plain": [
       "['Edunet', 3, 10.2, 'A', 32, 3]"
      ]
     },
     "execution_count": 70,
     "metadata": {},
     "output_type": "execute_result"
    }
   ],
   "source": [
    "my_list"
   ]
  },
  {
   "cell_type": "code",
   "execution_count": 72,
   "id": "f1565b6f-217e-4f0a-9796-c230232f0c78",
   "metadata": {},
   "outputs": [
    {
     "data": {
      "text/plain": [
       "['Edunet', 3, 10.2, 'A', 32, 3, 'add new item for last']"
      ]
     },
     "execution_count": 72,
     "metadata": {},
     "output_type": "execute_result"
    }
   ],
   "source": [
    "my_list = my_list + ['add new item for last']\n",
    "my_list"
   ]
  },
  {
   "cell_type": "code",
   "execution_count": 74,
   "id": "013afa44-fded-489e-88ac-3d1dd659aea6",
   "metadata": {},
   "outputs": [
    {
     "data": {
      "text/plain": [
       "[1, 2, 3, 4, 5, 6, 'append']"
      ]
     },
     "execution_count": 74,
     "metadata": {},
     "output_type": "execute_result"
    }
   ],
   "source": [
    "new_list = [1,2,3,4,5,6]\n",
    "new_list.append('append')\n",
    "new_list"
   ]
  },
  {
   "cell_type": "code",
   "execution_count": 76,
   "id": "9aabbde5-63cf-46b4-98f8-440a0289024e",
   "metadata": {},
   "outputs": [
    {
     "data": {
      "text/plain": [
       "[1, 2, 3, 4, 5, 6]"
      ]
     },
     "execution_count": 76,
     "metadata": {},
     "output_type": "execute_result"
    }
   ],
   "source": [
    "new_list.pop()\n",
    "new_list"
   ]
  },
  {
   "cell_type": "code",
   "execution_count": 132,
   "id": "638d1a98-2762-4583-9a84-b19376fac57c",
   "metadata": {},
   "outputs": [
    {
     "data": {
      "text/plain": [
       "[3, 4, 5, 6]"
      ]
     },
     "execution_count": 132,
     "metadata": {},
     "output_type": "execute_result"
    }
   ],
   "source": [
    "new_list.pop(0)\n",
    "new_list"
   ]
  },
  {
   "cell_type": "code",
   "execution_count": 80,
   "id": "6f8068af-eb52-4f75-9ca9-bbf18fa685f0",
   "metadata": {},
   "outputs": [
    {
     "data": {
      "text/plain": [
       "{'key1': 'value1', 'key2': 'value2', 'key3': 'value3'}"
      ]
     },
     "execution_count": 80,
     "metadata": {},
     "output_type": "execute_result"
    }
   ],
   "source": [
    "Dict = {'key1':'value1','key2':'value2', 'key3':'value3'}\n",
    "Dict"
   ]
  },
  {
   "cell_type": "code",
   "execution_count": 82,
   "id": "46d5d416-a11a-4514-a6f6-7e54eb3f07f3",
   "metadata": {},
   "outputs": [
    {
     "data": {
      "text/plain": [
       "'value2'"
      ]
     },
     "execution_count": 82,
     "metadata": {},
     "output_type": "execute_result"
    }
   ],
   "source": [
    "Dict['key2']"
   ]
  },
  {
   "cell_type": "code",
   "execution_count": 84,
   "id": "b4b0328b-6a74-4f7c-aeab-ec026a8e6c3a",
   "metadata": {},
   "outputs": [
    {
     "data": {
      "text/plain": [
       "{'key1': 123, 'key2': [1, 2, 3], 'key3': ['Edu', 'Net', 'Foundation']}"
      ]
     },
     "execution_count": 84,
     "metadata": {},
     "output_type": "execute_result"
    }
   ],
   "source": [
    "my_dict = {'key1':123,'key2':[1,2,3],'key3':['Edu','Net','Foundation']}\n",
    "my_dict"
   ]
  },
  {
   "cell_type": "code",
   "execution_count": 136,
   "id": "228bba80-8567-4f9d-9e16-75aff015d5ec",
   "metadata": {},
   "outputs": [
    {
     "data": {
      "text/plain": [
       "3"
      ]
     },
     "execution_count": 136,
     "metadata": {},
     "output_type": "execute_result"
    }
   ],
   "source": [
    "my_dict['key2'][2]"
   ]
  },
  {
   "cell_type": "code",
   "execution_count": 86,
   "id": "43a6e7bd-8484-41f4-bf84-e5e2fdbce020",
   "metadata": {},
   "outputs": [
    {
     "data": {
      "text/plain": [
       "['Edu', 'Net', 'Foundation']"
      ]
     },
     "execution_count": 86,
     "metadata": {},
     "output_type": "execute_result"
    }
   ],
   "source": [
    "my_dict['key3']"
   ]
  },
  {
   "cell_type": "code",
   "execution_count": 88,
   "id": "0e77797d-857b-4ef4-b79e-3c749742877a",
   "metadata": {},
   "outputs": [
    {
     "data": {
      "text/plain": [
       "'Edu'"
      ]
     },
     "execution_count": 88,
     "metadata": {},
     "output_type": "execute_result"
    }
   ],
   "source": [
    "my_dict['key3'][0]"
   ]
  },
  {
   "cell_type": "code",
   "execution_count": 90,
   "id": "82707e4c-d5d7-419f-86fb-0f6091bc8159",
   "metadata": {},
   "outputs": [
    {
     "data": {
      "text/plain": [
       "'EDU'"
      ]
     },
     "execution_count": 90,
     "metadata": {},
     "output_type": "execute_result"
    }
   ],
   "source": [
    "my_dict['key3'][0].upper()"
   ]
  },
  {
   "cell_type": "code",
   "execution_count": 92,
   "id": "0863409e-4f18-4843-b113-c6939f31b687",
   "metadata": {},
   "outputs": [
    {
     "data": {
      "text/plain": [
       "123"
      ]
     },
     "execution_count": 92,
     "metadata": {},
     "output_type": "execute_result"
    }
   ],
   "source": [
    "my_dict['key1']"
   ]
  },
  {
   "cell_type": "code",
   "execution_count": 94,
   "id": "90fdc84b-78e1-474f-9f67-2b1fd75b76e5",
   "metadata": {},
   "outputs": [
    {
     "data": {
      "text/plain": [
       "246"
      ]
     },
     "execution_count": 94,
     "metadata": {},
     "output_type": "execute_result"
    }
   ],
   "source": [
    "my_dict['key1'] = my_dict['key1'] + 123\n",
    "my_dict['key1']"
   ]
  },
  {
   "cell_type": "code",
   "execution_count": 96,
   "id": "e39e712e-200b-4e17-8eef-e78336d96b0c",
   "metadata": {},
   "outputs": [
    {
     "data": {
      "text/plain": [
       "(1, 2, 3, 3, 3, 'aziz', 'Edu')"
      ]
     },
     "execution_count": 96,
     "metadata": {},
     "output_type": "execute_result"
    }
   ],
   "source": [
    "tuple = (1,2,3,3,3,'aziz','Edu')\n",
    "tuple"
   ]
  },
  {
   "cell_type": "code",
   "execution_count": 98,
   "id": "8da60c59-b390-4be8-8d11-fbd39494e771",
   "metadata": {},
   "outputs": [
    {
     "data": {
      "text/plain": [
       "7"
      ]
     },
     "execution_count": 98,
     "metadata": {},
     "output_type": "execute_result"
    }
   ],
   "source": [
    "len(tuple)"
   ]
  },
  {
   "cell_type": "code",
   "execution_count": 100,
   "id": "44355d2b-67c3-452a-b3e4-d357654c8a21",
   "metadata": {},
   "outputs": [
    {
     "data": {
      "text/plain": [
       "1"
      ]
     },
     "execution_count": 100,
     "metadata": {},
     "output_type": "execute_result"
    }
   ],
   "source": [
    "tuple[0]"
   ]
  },
  {
   "cell_type": "code",
   "execution_count": 102,
   "id": "a03304d8-fe51-4e6a-ad8e-0f8abe93f687",
   "metadata": {},
   "outputs": [
    {
     "data": {
      "text/plain": [
       "'Edu'"
      ]
     },
     "execution_count": 102,
     "metadata": {},
     "output_type": "execute_result"
    }
   ],
   "source": [
    "tuple[-1]"
   ]
  },
  {
   "cell_type": "code",
   "execution_count": 104,
   "id": "c2bb7cb9-659d-45f5-acfd-f9f8a6ab16a7",
   "metadata": {},
   "outputs": [
    {
     "data": {
      "text/plain": [
       "{1, 2, 3}"
      ]
     },
     "execution_count": 104,
     "metadata": {},
     "output_type": "execute_result"
    }
   ],
   "source": [
    "Set = set()\n",
    "Set.add(1)\n",
    "Set.add(2)\n",
    "Set.add(3)\n",
    "Set"
   ]
  },
  {
   "cell_type": "code",
   "execution_count": 106,
   "id": "c9d5cf4a-5405-42dd-b816-561fc3634d3a",
   "metadata": {},
   "outputs": [
    {
     "data": {
      "text/plain": [
       "{1, 2, 3, 4}"
      ]
     },
     "execution_count": 106,
     "metadata": {},
     "output_type": "execute_result"
    }
   ],
   "source": [
    "Set.add(1)\n",
    "Set.add(1)\n",
    "Set.add(4)\n",
    "Set"
   ]
  },
  {
   "cell_type": "code",
   "execution_count": 108,
   "id": "ea7e0b5c-cf10-4adf-be6b-04da8eceeb58",
   "metadata": {},
   "outputs": [
    {
     "name": "stdout",
     "output_type": "stream",
     "text": [
      "Yes! It was true.\n"
     ]
    }
   ],
   "source": [
    "if True:\n",
    "    print(\"Yes! It was true.\")"
   ]
  },
  {
   "cell_type": "code",
   "execution_count": 110,
   "id": "7aa7a5bd-0033-4da6-8017-b4698e085856",
   "metadata": {},
   "outputs": [],
   "source": [
    "x = False"
   ]
  },
  {
   "cell_type": "code",
   "execution_count": 112,
   "id": "0f1e68b1-9438-4563-a4e8-457bf490584a",
   "metadata": {},
   "outputs": [
    {
     "name": "stdout",
     "output_type": "stream",
     "text": [
      "I will be printed in any case where x is not true\n"
     ]
    }
   ],
   "source": [
    "if x:\n",
    "    print(\"Yes! It was true.\")\n",
    "else:\n",
    "    print('I will be printed in any case where {} is not true' .format('x'))"
   ]
  },
  {
   "cell_type": "code",
   "execution_count": 114,
   "id": "8b10aa22-3d07-4131-869a-62cee9dd9a9e",
   "metadata": {},
   "outputs": [
    {
     "name": "stdout",
     "output_type": "stream",
     "text": [
      "Welcome to the Andhra Pradesh!\n"
     ]
    }
   ],
   "source": [
    "loc = 'Andhra Pradesh'\n",
    "\n",
    "if loc == 'Bangalore':\n",
    "    print('Welcome to the Bangalore!')\n",
    "elif loc == 'Andhra Pradesh':\n",
    "    print('Welcome to the Andhra Pradesh!')\n",
    "else:\n",
    "    print('Where are you?')"
   ]
  },
  {
   "cell_type": "code",
   "execution_count": 138,
   "id": "9c65a13b-8ff9-4070-8819-e3ab0167b5c5",
   "metadata": {},
   "outputs": [
    {
     "name": "stdout",
     "output_type": "stream",
     "text": [
      "1\n",
      "2\n",
      "3\n",
      "4\n",
      "5\n",
      "6\n",
      "7\n",
      "8\n",
      "9\n",
      "10\n"
     ]
    }
   ],
   "source": [
    "list1 = [1,2,3,4,5,6,7,8,9,10]\n",
    "for num in list1:\n",
    "    print(num)"
   ]
  },
  {
   "cell_type": "code",
   "execution_count": 140,
   "id": "caddd213-16fe-4d1d-a8c7-1c7e8da6de4b",
   "metadata": {},
   "outputs": [
    {
     "name": "stdout",
     "output_type": "stream",
     "text": [
      "2\n",
      "4\n",
      "6\n",
      "8\n",
      "10\n"
     ]
    }
   ],
   "source": [
    "for num in list1:\n",
    "    if num % 2 == 0:\n",
    "        print(num)"
   ]
  },
  {
   "cell_type": "code",
   "execution_count": 142,
   "id": "54c9d65a-00c4-4d0b-a4f5-f851f97cb84b",
   "metadata": {},
   "outputs": [
    {
     "name": "stdout",
     "output_type": "stream",
     "text": [
      "1 is Odd number\n",
      "2\n",
      "3 is Odd number\n",
      "4\n",
      "5 is Odd number\n",
      "6\n",
      "7 is Odd number\n",
      "8\n",
      "9 is Odd number\n",
      "10\n"
     ]
    }
   ],
   "source": [
    "for num in list1:\n",
    "    if num % 2 == 0:\n",
    "        print(num)\n",
    "    else:\n",
    "        print('{} is Odd number'.format(num))"
   ]
  },
  {
   "cell_type": "code",
   "execution_count": 144,
   "id": "90ae87a3-0a72-4c6c-911e-098f26e0ac34",
   "metadata": {},
   "outputs": [
    {
     "name": "stdout",
     "output_type": "stream",
     "text": [
      "55\n"
     ]
    }
   ],
   "source": [
    "list_sum = 0 \n",
    "for num in list1:\n",
    "    list_sum = list_sum + num\n",
    "print(list_sum)"
   ]
  },
  {
   "cell_type": "code",
   "execution_count": 146,
   "id": "9d5bd3bd-0b7a-49be-b2b9-209982acc4b9",
   "metadata": {},
   "outputs": [
    {
     "name": "stdout",
     "output_type": "stream",
     "text": [
      "x is currently:  0\n",
      " x is still less than 10, adding 1 to x\n",
      "x is currently:  1\n",
      " x is still less than 10, adding 1 to x\n",
      "x is currently:  2\n",
      " x is still less than 10, adding 1 to x\n",
      "x is currently:  3\n",
      " x is still less than 10, adding 1 to x\n",
      "x is currently:  4\n",
      " x is still less than 10, adding 1 to x\n",
      "x is currently:  5\n",
      " x is still less than 10, adding 1 to x\n",
      "x is currently:  6\n",
      " x is still less than 10, adding 1 to x\n",
      "x is currently:  7\n",
      " x is still less than 10, adding 1 to x\n",
      "x is currently:  8\n",
      " x is still less than 10, adding 1 to x\n",
      "x is currently:  9\n",
      " x is still less than 10, adding 1 to x\n",
      "\n",
      " All Done!\n"
     ]
    }
   ],
   "source": [
    "x = 0\n",
    "while x < 10:\n",
    "    print('x is currently: ',x)\n",
    "    print(' x is still less than 10, adding 1 to x')\n",
    "    x+=1\n",
    "else:\n",
    "    print('\\n All Done!')"
   ]
  },
  {
   "cell_type": "code",
   "execution_count": 150,
   "id": "884a7e1d-5050-497b-ae23-4fbea8e6b552",
   "metadata": {},
   "outputs": [
    {
     "data": {
      "text/plain": [
       "['E', 'd', 'u', 'n', 'e', 't']"
      ]
     },
     "execution_count": 150,
     "metadata": {},
     "output_type": "execute_result"
    }
   ],
   "source": [
    "lst = [x for x in 'Edunet']\n",
    "lst"
   ]
  },
  {
   "cell_type": "code",
   "execution_count": 152,
   "id": "45794384-914e-4c32-aa12-9af6a5585324",
   "metadata": {},
   "outputs": [
    {
     "name": "stdout",
     "output_type": "stream",
     "text": [
      "0\n",
      "1\n",
      "2\n",
      "3\n",
      "4\n",
      "5\n",
      "6\n",
      "7\n",
      "8\n",
      "9\n"
     ]
    }
   ],
   "source": [
    "for x in range(10):\n",
    "    print(x)"
   ]
  },
  {
   "cell_type": "code",
   "execution_count": 154,
   "id": "fbdc0620-a232-463c-bc29-539b016a82bd",
   "metadata": {},
   "outputs": [
    {
     "data": {
      "text/plain": [
       "[0, 1, 4, 9, 16, 25, 36, 49, 64, 81, 100]"
      ]
     },
     "execution_count": 154,
     "metadata": {},
     "output_type": "execute_result"
    }
   ],
   "source": [
    "sqr_lst = [x**2 for x in range(0,11)]\n",
    "sqr_lst"
   ]
  },
  {
   "cell_type": "code",
   "execution_count": 122,
   "id": "471c4079-166a-4b61-bcd9-fd07b9b24e99",
   "metadata": {},
   "outputs": [
    {
     "name": "stdout",
     "output_type": "stream",
     "text": [
      "hello Edunet\n"
     ]
    }
   ],
   "source": [
    "def say_hello():\n",
    "    print('hello Edunet')\n",
    "say_hello()"
   ]
  },
  {
   "cell_type": "code",
   "execution_count": 124,
   "id": "6662d64c-202f-4b47-93c1-072282fd28cc",
   "metadata": {},
   "outputs": [
    {
     "data": {
      "text/plain": [
       "8"
      ]
     },
     "execution_count": 124,
     "metadata": {},
     "output_type": "execute_result"
    }
   ],
   "source": [
    "def add_num(num1,num2):\n",
    "    return num1+num2\n",
    "add_num(2,6)"
   ]
  },
  {
   "cell_type": "code",
   "execution_count": 130,
   "id": "00e50127-292b-4fe2-9f41-1b3a3caa4b91",
   "metadata": {},
   "outputs": [
    {
     "data": {
      "text/plain": [
       "[2, 4, 6]"
      ]
     },
     "execution_count": 130,
     "metadata": {},
     "output_type": "execute_result"
    }
   ],
   "source": [
    "def check_even_list(num_list):\n",
    "    even_numbers = []\n",
    "    for number in num_list:\n",
    "        if number % 2 == 0:\n",
    "            even_numbers.append(number)\n",
    "    return even_numbers\n",
    "check_even_list([1,2,3,4,5,6])"
   ]
  },
  {
   "cell_type": "code",
   "execution_count": 201,
   "id": "429428f2-48db-4097-9a64-e7141d594b6b",
   "metadata": {},
   "outputs": [
    {
     "name": "stdin",
     "output_type": "stream",
     "text": [
      "Enter the electricity: 450\n"
     ]
    },
    {
     "name": "stdout",
     "output_type": "stream",
     "text": [
      "The bill is: 2000\n"
     ]
    }
   ],
   "source": []
  },
  {
   "cell_type": "code",
   "execution_count": 209,
   "id": "9dc5dd8b-ff24-4ac6-a4b5-47cceae64efc",
   "metadata": {},
   "outputs": [
    {
     "name": "stdin",
     "output_type": "stream",
     "text": [
      "Enter the electricity units:  3550\n"
     ]
    },
    {
     "name": "stdout",
     "output_type": "stream",
     "text": [
      "The bill is: 43600\n"
     ]
    }
   ],
   "source": [
    "a = int(input(\"Enter the electricity units: \"))\n",
    "bill = 0  \n",
    "\n",
    "if a <= 200:\n",
    "    print(\"The bill is free\")\n",
    "elif a <= 500:  \n",
    "    bill = (a - 200) * 8\n",
    "    print(\"The bill is: {}\".format(bill))\n",
    "elif a <= 1000:  \n",
    "    bill = (300 * 8) + ((a - 500) * 11)\n",
    "    print(\"The bill is: {}\".format(bill))\n",
    "else:\n",
    "    bill = (300 * 8) + (500 * 11) + ((a - 1000) * 14)\n",
    "    print(\"The bill is: {}\".format(bill))\n"
   ]
  },
  {
   "cell_type": "code",
   "execution_count": 213,
   "id": "ec12db40-c506-4556-8486-59d88753f5fd",
   "metadata": {},
   "outputs": [
    {
     "name": "stdin",
     "output_type": "stream",
     "text": [
      "Enter your salary: 6500000\n"
     ]
    },
    {
     "name": "stdout",
     "output_type": "stream",
     "text": [
      "Tax is 1890000.0\n"
     ]
    }
   ],
   "source": [
    "salary=int(input(\"Enter your salary:\"))\n",
    "if salary <=1000000:\n",
    "    print(\"There is no tax\")\n",
    "elif salary<=1200000:\n",
    "    salary = salary - 200000\n",
    "    tax = (10/100)*salary\n",
    "    print(\"Tax is {}\".format(tax))\n",
    "elif salary<=3000000:\n",
    "    salary = salary - 200000\n",
    "    tax = (20/100)*salary\n",
    "    print(\"Tax is {}\".format(tax))\n",
    "\n",
    "else:\n",
    "    salary = salary - 200000\n",
    "    tax = (30/100)*salary\n",
    "    print(\"Tax is {}\".format(tax))\n",
    "\n"
   ]
  },
  {
   "cell_type": "code",
   "execution_count": 163,
   "id": "f27e3480-5a02-43cb-83b8-0c1eb97b85a1",
   "metadata": {},
   "outputs": [
    {
     "name": "stdin",
     "output_type": "stream",
     "text": [
      "Enter 1st numbers dad\n"
     ]
    },
    {
     "ename": "ValueError",
     "evalue": "invalid literal for int() with base 10: 'dad'",
     "output_type": "error",
     "traceback": [
      "\u001b[1;31m---------------------------------------------------------------------------\u001b[0m",
      "\u001b[1;31mValueError\u001b[0m                                Traceback (most recent call last)",
      "Cell \u001b[1;32mIn[163], line 1\u001b[0m\n\u001b[1;32m----> 1\u001b[0m a\u001b[38;5;241m=\u001b[39m\u001b[38;5;28mint\u001b[39m(\u001b[38;5;28minput\u001b[39m(\u001b[38;5;124m\"\u001b[39m\u001b[38;5;124mEnter 1st numbers\u001b[39m\u001b[38;5;124m\"\u001b[39m))\n\u001b[0;32m      2\u001b[0m b\u001b[38;5;241m=\u001b[39m\u001b[38;5;28mint\u001b[39m(\u001b[38;5;28minput\u001b[39m(\u001b[38;5;124m\"\u001b[39m\u001b[38;5;124mEnter 2nd number\u001b[39m\u001b[38;5;124m\"\u001b[39m))\n\u001b[0;32m      3\u001b[0m c\u001b[38;5;241m=\u001b[39m\u001b[38;5;28mint\u001b[39m(\u001b[38;5;28minput\u001b[39m(\u001b[38;5;124m\"\u001b[39m\u001b[38;5;124mEnter 3rd number\u001b[39m\u001b[38;5;124m\"\u001b[39m))\n",
      "\u001b[1;31mValueError\u001b[0m: invalid literal for int() with base 10: 'dad'"
     ]
    }
   ],
   "source": [
    "a=int(input(\"Enter 1st numbers\"))\n",
    "b=int(input(\"Enter 2nd number\"))\n",
    "c=int(input(\"Enter 3rd number\"))\n",
    "\n",
    "if a>b & a>c:\n",
    "    print(\"1st number is greatest\")\n",
    "elif b>a & b>c:\n",
    "    print(\"2nd is the greatest\")\n",
    "else:\n",
    "    print(\"3rd is the greatest\")\n",
    "    "
   ]
  },
  {
   "cell_type": "code",
   "execution_count": 235,
   "id": "104f6a51-b33b-4de4-b1b5-ed9f9d462d73",
   "metadata": {},
   "outputs": [
    {
     "name": "stdin",
     "output_type": "stream",
     "text": [
      "Enter your salary:  4500000\n",
      "Enter your saving:  150000\n"
     ]
    },
    {
     "name": "stdout",
     "output_type": "stream",
     "text": [
      "Your saving is: 150000\n",
      "Your tax is: 985000.0\n"
     ]
    }
   ],
   "source": [
    "salary = int(input(\"Enter your salary: \"))\n",
    "saving = int(input(\"Enter your saving: \"))\n",
    "\n",
    "after_sav = salary - saving\n",
    "tax = 0  # Initialize tax\n",
    "\n",
    "if after_sav <= 1000000:\n",
    "    tax = 0.1 * after_sav\n",
    "\n",
    "elif after_sav <= 2200000:\n",
    "    tax += 0.1 * 1000000  \n",
    "    after_sav -= 1000000  \n",
    "    tax += 0.2 * after_sav \n",
    "\n",
    "else:\n",
    "    tax += 0.1 * 1000000  \n",
    "    tax += 0.2 * 1200000  \n",
    "    after_sav -= 2200000  \n",
    "    tax += 0.3 * after_sav  \n",
    "\n",
    "print(f\"Your saving is: {saving}\")\n",
    "print(f\"Your tax is: {tax}\")\n"
   ]
  },
  {
   "cell_type": "code",
   "execution_count": 240,
   "id": "ce1a9884-c76b-4123-b2fb-a0495c16ce79",
   "metadata": {},
   "outputs": [
    {
     "name": "stdout",
     "output_type": "stream",
     "text": [
      "5\n"
     ]
    }
   ],
   "source": [
    "a = 13183\n",
    "print(len(str(a)))"
   ]
  },
  {
   "cell_type": "code",
   "execution_count": 264,
   "id": "0d3fadfb-2934-4a62-941b-b4d5cce0cc94",
   "metadata": {},
   "outputs": [
    {
     "name": "stdin",
     "output_type": "stream",
     "text": [
      "Enter a number 153\n"
     ]
    },
    {
     "name": "stdout",
     "output_type": "stream",
     "text": [
      "It is armstrong\n"
     ]
    }
   ],
   "source": [
    "#Armstrong Number\n",
    "\n",
    "n = int(input(\"Enter a number\"))\n",
    "x = len(str(n))\n",
    "s = 0\n",
    "for i in range(x):\n",
    "    s += int(str(n)[i])**x\n",
    "if s == n:\n",
    "    print(\"It is armstrong\")\n",
    "else:\n",
    "    print(\"NO\")"
   ]
  },
  {
   "cell_type": "code",
   "execution_count": 312,
   "id": "ab5eea01-e85b-49fe-98b8-5cbd1fe7e475",
   "metadata": {},
   "outputs": [
    {
     "name": "stdin",
     "output_type": "stream",
     "text": [
      "Enter a prime number 34\n"
     ]
    },
    {
     "name": "stdout",
     "output_type": "stream",
     "text": [
      "no\n"
     ]
    }
   ],
   "source": [
    "#Prime Number\n",
    "def isitprime():\n",
    "    input_number = int(input(\"Enter a prime number\"))\n",
    "    a = input_number\n",
    "    b = a//2\n",
    "    is_prime = False\n",
    "    for i in range(2,b):\n",
    "        if(input_number%i==0):\n",
    "            is_prime=False\n",
    "            break\n",
    "        else:\n",
    "            print(\"hogya\")\n",
    "            is_prime=True\n",
    "    \n",
    "    if is_prime:\n",
    "        return True\n",
    "    else:\n",
    "        return False\n",
    "\n"
   ]
  },
  {
   "cell_type": "code",
   "execution_count": 345,
   "id": "516e4685-d348-4f19-9bb4-8aecd5d10b89",
   "metadata": {},
   "outputs": [
    {
     "name": "stdin",
     "output_type": "stream",
     "text": [
      "Enter the amount of prime numbers needed:  10\n"
     ]
    },
    {
     "name": "stdout",
     "output_type": "stream",
     "text": [
      "[2, 3, 4, 5, 7, 11, 13, 17, 19, 23]\n"
     ]
    }
   ],
   "source": [
    "def isprime(n):\n",
    "    if n < 2:\n",
    "        return False\n",
    "    for i in range(2, int(n//2)):  \n",
    "        if n == 4:\n",
    "            return False\n",
    "        if n % i == 0:\n",
    "            return False\n",
    "    return True\n",
    "\n",
    "num = int(input(\"Enter the amount of prime numbers needed: \"))\n",
    "\n",
    "prime = []\n",
    "i = 2  \n",
    "while len(prime) < num:\n",
    "    if isprime(i):\n",
    "        prime.append(i)\n",
    "    i += 1\n",
    "\n",
    "print(prime)\n"
   ]
  },
  {
   "cell_type": "code",
   "execution_count": null,
   "id": "0c62e095-d139-434f-be87-e156538990c3",
   "metadata": {},
   "outputs": [],
   "source": [
    "a = []\n",
    "n = int(input(\"Enter the number of elements: \"))\n",
    "for i in range(n):\n",
    "    x = int(input(\"Enter element: \"))\n",
    "    a.append(x)\n",
    "\n",
    "print(\"Original list:\", a)\n",
    "\n",
    "def asort(b: list) -> list:\n",
    "    for i in range(len(b) - 1): \n",
    "        for j in range(len(b) - i - 1): \n",
    "            if b[j] > b[j + 1]: \n",
    "                b[j], b[j + 1] = b[j + 1], b[j]\n",
    "    return b  #\n",
    "\n",
    "sorted_list = asort(a)\n",
    "print(\"Sorted list:\", sorted_list)\n",
    "\n",
    "def dsort\n"
   ]
  },
  {
   "cell_type": "raw",
   "id": "30ad8537-11b1-444f-8f25-d96148c530b0",
   "metadata": {},
   "source": [
    "String = \"This is a string\"\n",
    "count = 0"
   ]
  },
  {
   "cell_type": "code",
   "execution_count": 14,
   "id": "78467f03-c10d-482e-bc81-569a5bd5a122",
   "metadata": {},
   "outputs": [
    {
     "name": "stdout",
     "output_type": "stream",
     "text": [
      "16\n"
     ]
    }
   ],
   "source": [
    "String = \"This is a string\"\n",
    "def length(str):\n",
    "    count = 0\n",
    "    for i in str:\n",
    "        count += 1\n",
    "    return count\n",
    "print(length(String))"
   ]
  },
  {
   "cell_type": "code",
   "execution_count": 41,
   "id": "3da66c8e-9a58-4dd4-ae47-a9219b3f080f",
   "metadata": {},
   "outputs": [
    {
     "name": "stdin",
     "output_type": "stream",
     "text": [
      "Enter any string to convert into upper:  This is a test 2104814'   '/q'q;\n"
     ]
    },
    {
     "name": "stdout",
     "output_type": "stream",
     "text": [
      "THIS IS A TEST 2104814'   '/Q'Q;\n",
      "this is a test 2104814'   '/q'q;\n"
     ]
    }
   ],
   "source": [
    "String = input(\"Enter any string to convert into upper: \")\n",
    "\n",
    "def toupper(str):\n",
    "    answer = \"\"\n",
    "    for i in str:\n",
    "        if ord(i) >= 65 and ord(i) <= 90: \n",
    "            answer += i\n",
    "        elif ord(i) >= 97 and ord(i) <= 122: \n",
    "            answer += chr(ord(i) - 32) \n",
    "        else:\n",
    "            answer += i  \n",
    "    return answer\n",
    "\n",
    "def tolower(str):\n",
    "    answer = \"\"\n",
    "    for i in str:\n",
    "        if ord(i) >= 65 and ord(i) <= 90: \n",
    "            answer += chr(ord(i) + 32)         \n",
    "        elif ord(i) >= 97 and ord(i) <= 122: \n",
    "            answer += i\n",
    "        else:\n",
    "            answer += i  \n",
    "    return answer\n",
    "\n",
    "print(toupper(String))\n",
    "print(tolower(String))\n"
   ]
  },
  {
   "cell_type": "code",
   "execution_count": 43,
   "id": "250d89f7-41e8-40bf-8b87-68f5d8a0c105",
   "metadata": {},
   "outputs": [
    {
     "name": "stdin",
     "output_type": "stream",
     "text": [
      "Enter a number to check if it is an Armstrong number:  412894\n"
     ]
    },
    {
     "name": "stdout",
     "output_type": "stream",
     "text": [
      "412894 is not an Armstrong number\n"
     ]
    }
   ],
   "source": [
    "\n",
    "num = int(input(\"Enter a number to check if it is an Armstrong number: \"))\n",
    "temp = num\n",
    "sum_val = 0\n",
    "\n",
    "\n",
    "n = num\n",
    "count = 0\n",
    "while n > 0:\n",
    "    count += 1\n",
    "    n //= 10\n",
    "\n",
    "while temp > 0:\n",
    "    digit = temp % 10\n",
    "    sum_val += digit ** count\n",
    "    temp //= 10\n",
    "\n",
    "if sum_val == num:\n",
    "    print(num, \"is an Armstrong number\")\n",
    "else:\n",
    "    print(num, \"is not an Armstrong number\")\n"
   ]
  },
  {
   "cell_type": "code",
   "execution_count": 45,
   "id": "4bdafcd1-4c61-4514-97a9-773254b7f509",
   "metadata": {},
   "outputs": [
    {
     "name": "stdin",
     "output_type": "stream",
     "text": [
      "Enter a number to check if it is prime:  41094\n"
     ]
    },
    {
     "name": "stdout",
     "output_type": "stream",
     "text": [
      "41094 is not a prime number\n"
     ]
    }
   ],
   "source": [
    "\n",
    "num = int(input(\"Enter a number to check if it is prime: \"))\n",
    "\n",
    "if num <= 1:\n",
    "    print(num, \"is not a prime number\")\n",
    "else:\n",
    "    i = 2\n",
    "    is_prime = True\n",
    "    while i * i <= num:\n",
    "        if num % i == 0:\n",
    "            is_prime = False\n",
    "            break\n",
    "        i += 1\n",
    "\n",
    "    if is_prime:\n",
    "        print(num, \"is a prime number\")\n",
    "    else:\n",
    "        print(num, \"is not a prime number\")\n"
   ]
  },
  {
   "cell_type": "code",
   "execution_count": 51,
   "id": "ca97ee72-e3d3-42ae-9867-f57b9b25ff8e",
   "metadata": {},
   "outputs": [
    {
     "name": "stdin",
     "output_type": "stream",
     "text": [
      "Enter the number of terms for the Fibonacci sequence:  5\n"
     ]
    },
    {
     "name": "stdout",
     "output_type": "stream",
     "text": [
      "Fibonacci sequence:\n",
      "0 1 1 2 3 "
     ]
    }
   ],
   "source": [
    "n = int(input(\"Enter the number of terms for the Fibonacci sequence: \"))\n",
    "\n",
    "a = 0\n",
    "b = 1\n",
    "count = 0\n",
    "\n",
    "if n <= 0:\n",
    "    print(\"Please enter a positive integer\")\n",
    "elif n == 1:\n",
    "    print(\"Fibonacci sequence:\")\n",
    "    print(a)\n",
    "else:\n",
    "    print(\"Fibonacci sequence:\")\n",
    "    while count < n:\n",
    "        print(a, end=\" \")\n",
    "        c = a + b\n",
    "        a = b\n",
    "        b = c\n",
    "        count += 1\n"
   ]
  },
  {
   "cell_type": "code",
   "execution_count": 53,
   "id": "afd741cd-ce49-4cb8-a3f9-1228b04cbf20",
   "metadata": {},
   "outputs": [],
   "source": [
    "String = \"Walchand Institute Of Technology, Solapur\""
   ]
  },
  {
   "cell_type": "code",
   "execution_count": 61,
   "id": "5f7bd43d-050c-4afd-9714-ac56c82a3911",
   "metadata": {},
   "outputs": [
    {
     "name": "stdout",
     "output_type": "stream",
     "text": [
      "Character occurrences: {'W': 1, 'a': 3, 'l': 3, 'c': 2, 'h': 2, 'n': 3, 'd': 1, ' ': 4, 'I': 1, 's': 1, 't': 3, 'i': 1, 'u': 2, 'e': 2, 'O': 1, 'f': 1, 'T': 1, 'o': 3, 'g': 1, 'y': 1, ',': 1, 'S': 1, 'p': 1, 'r': 1}\n"
     ]
    }
   ],
   "source": [
    "string = \"Walchand Institute Of Technology, Solapur\"\n",
    "\n",
    "# 1. Count occurrences of each character\n",
    "char_count = {}\n",
    "i = 0\n",
    "while i < len(string):\n",
    "    char = string[i]\n",
    "    if char in char_count:\n",
    "        char_count[char] += 1\n",
    "    else:\n",
    "        char_count[char] = 1\n",
    "    i += 1\n",
    "print(\"Character occurrences:\", char_count)"
   ]
  },
  {
   "cell_type": "code",
   "execution_count": 63,
   "id": "08e78d8a-cfe7-4169-b4e9-088f9a0f9810",
   "metadata": {},
   "outputs": [
    {
     "name": "stdout",
     "output_type": "stream",
     "text": [
      "Repeated characters: {'a': 3, 'l': 3, 'c': 2, 'h': 2, 'n': 3, ' ': 4, 't': 3, 'u': 2, 'e': 2, 'o': 3}\n"
     ]
    }
   ],
   "source": [
    "# 2. Count repeated characters\n",
    "repeated_chars = {}\n",
    "i = 0\n",
    "while i < len(string):\n",
    "    char = string[i]\n",
    "    if char_count[char] > 1:\n",
    "        repeated_chars[char] = char_count[char]\n",
    "    i += 1\n",
    "print(\"Repeated characters:\", repeated_chars)"
   ]
  },
  {
   "cell_type": "code",
   "execution_count": 65,
   "id": "5e34cda2-6c00-4c38-bf70-21a0e500c864",
   "metadata": {},
   "outputs": [
    {
     "name": "stdout",
     "output_type": "stream",
     "text": [
      "Split words: ['Walchand', 'Institute', 'Of', 'Technology', 'Solapur']\n"
     ]
    }
   ],
   "source": [
    "# 3. Split words\n",
    "words = []\n",
    "word = \"\"\n",
    "i = 0\n",
    "while i < len(string):\n",
    "    if string[i].isalpha() or string[i] == \"'\":  # Consider only words (excluding punctuation)\n",
    "        word += string[i]\n",
    "    else:\n",
    "        if word:\n",
    "            words.append(word)\n",
    "            word = \"\"\n",
    "    i += 1\n",
    "if word:\n",
    "    words.append(word)  # Add the last word if any\n",
    "\n",
    "print(\"Split words:\", words)"
   ]
  },
  {
   "cell_type": "code",
   "execution_count": 67,
   "id": "64a0b959-1ff1-4706-b106-babd05dd31f9",
   "metadata": {},
   "outputs": [
    {
     "name": "stdout",
     "output_type": "stream",
     "text": [
      "Even index characters: Wlhn nttt fTcnlg,Slpr\n"
     ]
    }
   ],
   "source": [
    "# 4. Print even index characters\n",
    "even_index_chars = \"\" \n",
    "i = 0\n",
    "while i < len(string):\n",
    "    if i % 2 == 0:\n",
    "        even_index_chars += string[i]\n",
    "    i += 1\n",
    "print(\"Even index characters:\", even_index_chars)"
   ]
  },
  {
   "cell_type": "code",
   "execution_count": 69,
   "id": "87572ff1-11fe-4ffa-a205-70a6848b8e2d",
   "metadata": {},
   "outputs": [
    {
     "name": "stdout",
     "output_type": "stream",
     "text": [
      "Odd index characters: acadIsiueO ehooy oau\n"
     ]
    }
   ],
   "source": [
    "# 5. Print odd index characters\n",
    "odd_index_chars = \"\"\n",
    "i = 0\n",
    "while i < len(string):\n",
    "    if i % 2 != 0:\n",
    "        odd_index_chars += string[i]\n",
    "    i += 1\n",
    "print(\"Odd index characters:\", odd_index_chars)"
   ]
  },
  {
   "cell_type": "code",
   "execution_count": null,
   "id": "75fd2d1f-876b-49d7-8e40-f3587acaf61d",
   "metadata": {},
   "outputs": [],
   "source": []
  },
  {
   "cell_type": "code",
   "execution_count": null,
   "id": "ee850ae6-a761-4a78-aec2-1f53ec2b90fc",
   "metadata": {},
   "outputs": [],
   "source": [
    "def "
   ]
  }
 ],
 "metadata": {
  "kernelspec": {
   "display_name": "Python 3 (ipykernel)",
   "language": "python",
   "name": "python3"
  },
  "language_info": {
   "codemirror_mode": {
    "name": "ipython",
    "version": 3
   },
   "file_extension": ".py",
   "mimetype": "text/x-python",
   "name": "python",
   "nbconvert_exporter": "python",
   "pygments_lexer": "ipython3",
   "version": "3.12.7"
  }
 },
 "nbformat": 4,
 "nbformat_minor": 5
}
