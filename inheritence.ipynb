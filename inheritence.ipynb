{
 "cells": [
  {
   "cell_type": "code",
   "execution_count": 1,
   "id": "cb6e08b0",
   "metadata": {},
   "outputs": [],
   "source": [
    "\n",
    "class Animal:\n",
    "    def eat(self):\n",
    "        print('All Animals eats')\n",
    "\n",
    "class Mammal(Animal):\n",
    "    def walk(self):\n",
    "        print('walk')\n",
    "\n",
    "class Fish:\n",
    "    def eat(self):\n",
    "        print('Fish eats')\n",
    "    \n",
    "    def swim(self):\n",
    "        print('swim')"
   ]
  },
  {
   "cell_type": "code",
   "execution_count": 3,
   "id": "c6963537",
   "metadata": {},
   "outputs": [],
   "source": [
    "obj = Mammal()"
   ]
  },
  {
   "cell_type": "code",
   "execution_count": 4,
   "id": "369a4acd",
   "metadata": {},
   "outputs": [
    {
     "name": "stdout",
     "output_type": "stream",
     "text": [
      "All Animals eats\n"
     ]
    }
   ],
   "source": [
    "obj.eat()"
   ]
  },
  {
   "cell_type": "code",
   "execution_count": 5,
   "id": "3863881b",
   "metadata": {},
   "outputs": [],
   "source": [
    "class Animal:\n",
    "    def __init__(self):\n",
    "        self.age = 1\n",
    "        print('age :', self.age)\n",
    "    \n",
    "    def eat(self):\n",
    "        print('All Animals eats')\n",
    "\n",
    "class Mammal(Animal):\n",
    "    def __init__(self):\n",
    "        self.weight = 10\n",
    "        print(\"Weight :\",self.weight)\n",
    "        \n",
    "    def walk(self):\n",
    "        print('walk')\n",
    "\n",
    "class Fish:\n",
    "    def eat(self):\n",
    "        print('Fish eats')\n",
    "    \n",
    "    def swim(self):\n",
    "        print('swim')"
   ]
  },
  {
   "cell_type": "code",
   "execution_count": 6,
   "id": "a0d63f75",
   "metadata": {},
   "outputs": [
    {
     "name": "stdout",
     "output_type": "stream",
     "text": [
      "Weight : 10\n"
     ]
    }
   ],
   "source": [
    "obj = Mammal()"
   ]
  },
  {
   "cell_type": "code",
   "execution_count": 7,
   "id": "09da8fa7",
   "metadata": {},
   "outputs": [
    {
     "name": "stdout",
     "output_type": "stream",
     "text": [
      "age : 1\n"
     ]
    }
   ],
   "source": [
    "obj1 = Animal()"
   ]
  },
  {
   "cell_type": "code",
   "execution_count": 8,
   "id": "ef102bec",
   "metadata": {},
   "outputs": [],
   "source": [
    "class Animal:  # parent\n",
    "    def __init__(self):\n",
    "        self.age = 1\n",
    "        print('age :', self.age)\n",
    "    \n",
    "    def eat(self):\n",
    "        print('All Animals eats')\n",
    "\n",
    "class Mammal(Animal): # child\n",
    "    def __init__(self):\n",
    "        self.weight = 10\n",
    "        print(\"Weight :\",self.weight)\n",
    "        \n",
    "    def walk(self):\n",
    "        print('walk')\n",
    "\n",
    "class Fish(Animal):\n",
    "    def eat(self):\n",
    "        print('Fish eats')\n",
    "    \n",
    "    def swim(self):\n",
    "        print('swim')"
   ]
  },
  {
   "cell_type": "code",
   "execution_count": 9,
   "id": "b2d729f4",
   "metadata": {},
   "outputs": [
    {
     "name": "stdout",
     "output_type": "stream",
     "text": [
      "age : 1\n"
     ]
    }
   ],
   "source": [
    "fishobj = Fish()"
   ]
  },
  {
   "cell_type": "code",
   "execution_count": 10,
   "id": "bb6ff622",
   "metadata": {},
   "outputs": [
    {
     "name": "stdout",
     "output_type": "stream",
     "text": [
      "Fish eats\n"
     ]
    }
   ],
   "source": [
    "fishobj.eat()"
   ]
  },
  {
   "cell_type": "code",
   "execution_count": 11,
   "id": "63282ac5",
   "metadata": {},
   "outputs": [],
   "source": [
    "class Animal:\n",
    "    def __init__(self):\n",
    "        self.age = 1\n",
    "        print('age :', self.age)\n",
    "    \n",
    "    def eat(self):\n",
    "        print('All Animals eats')\n",
    "\n",
    "class Mammal(Animal):\n",
    "    def __init__(self):\n",
    "        self.weight = 10\n",
    "        print(\"Weight :\",self.weight)\n",
    "        super().__init__()\n",
    "\n",
    "        \n",
    "    def walk(self):\n",
    "        print('walk')"
   ]
  },
  {
   "cell_type": "code",
   "execution_count": 12,
   "id": "05e5eacd",
   "metadata": {
    "scrolled": true
   },
   "outputs": [
    {
     "name": "stdout",
     "output_type": "stream",
     "text": [
      "Weight : 10\n",
      "age : 1\n"
     ]
    }
   ],
   "source": [
    "new_obj = Mammal()"
   ]
  },
  {
   "cell_type": "code",
   "execution_count": 13,
   "id": "ae1c928a",
   "metadata": {},
   "outputs": [],
   "source": [
    "class Animal:\n",
    "    def eat(self):\n",
    "        print(\"Animal eats\")\n",
    "\n",
    "class Bird(Animal):\n",
    "    def fly(self):\n",
    "        print(\"Bird can fly\")\n",
    "\n",
    "class Chicken(Bird):\n",
    "    def fly(self):\n",
    "        print(\"Chicken can't fly like other birds\")"
   ]
  },
  {
   "cell_type": "code",
   "execution_count": 14,
   "id": "f22fb146",
   "metadata": {},
   "outputs": [],
   "source": [
    "chicken_obj = Chicken()"
   ]
  },
  {
   "cell_type": "code",
   "execution_count": 15,
   "id": "cd0e4ef2",
   "metadata": {},
   "outputs": [
    {
     "name": "stdout",
     "output_type": "stream",
     "text": [
      "Animal eats\n"
     ]
    }
   ],
   "source": [
    "chicken_obj.eat()"
   ]
  },
  {
   "cell_type": "code",
   "execution_count": 16,
   "id": "2b2ab779",
   "metadata": {},
   "outputs": [
    {
     "name": "stdout",
     "output_type": "stream",
     "text": [
      "Chicken can't fly like other birds\n"
     ]
    }
   ],
   "source": [
    "chicken_obj.fly()"
   ]
  },
  {
   "cell_type": "code",
   "execution_count": 17,
   "id": "13440144",
   "metadata": {},
   "outputs": [],
   "source": [
    "class Employee:\n",
    "    def greet(self):\n",
    "        print(\"Employee class\")\n",
    "\n",
    "class Person:\n",
    "    def greet(self):\n",
    "        print(\"Last greet method\")\n",
    "   \n",
    "class Manager(Person, Employee):\n",
    "    def __init__(self):\n",
    "        print(\"Manager class\")"
   ]
  },
  {
   "cell_type": "code",
   "execution_count": 18,
   "id": "d8e4cfa7",
   "metadata": {},
   "outputs": [
    {
     "name": "stdout",
     "output_type": "stream",
     "text": [
      "Manager class\n"
     ]
    }
   ],
   "source": [
    "man_obj = Manager()"
   ]
  },
  {
   "cell_type": "code",
   "execution_count": 19,
   "id": "b0301f96",
   "metadata": {},
   "outputs": [
    {
     "name": "stdout",
     "output_type": "stream",
     "text": [
      "Last greet method\n"
     ]
    }
   ],
   "source": [
    "man_obj.greet()"
   ]
  },
  {
   "cell_type": "code",
   "execution_count": 20,
   "id": "41e89a52",
   "metadata": {},
   "outputs": [],
   "source": [
    "from abc import ABC, abstractmethod\n",
    "\n",
    "class File(ABC):\n",
    "    def __init__(self):\n",
    "        self.opened = False\n",
    "    \n",
    "    def open_file(self):\n",
    "        if self.opened:\n",
    "            print(\"File is already opened\")\n",
    "        self.opened = True\n",
    "        \n",
    "    def close(self):\n",
    "        if not self.opened:\n",
    "            print(\"File is already closed\")\n",
    "        self.opened = False\n",
    "    \n",
    "    @abstractmethod\n",
    "    def read(self):\n",
    "        pass"
   ]
  },
  {
   "cell_type": "code",
   "execution_count": 21,
   "id": "630f2c85",
   "metadata": {},
   "outputs": [],
   "source": [
    "class NetworkFile(File):\n",
    "    def read(self):\n",
    "        print(\"Reading data from a Network\")\n",
    "        \n",
    "networkfile = NetworkFile()"
   ]
  },
  {
   "cell_type": "code",
   "execution_count": 27,
   "id": "9698e289",
   "metadata": {},
   "outputs": [
    {
     "name": "stdout",
     "output_type": "stream",
     "text": [
      "Reading from memory...\n"
     ]
    }
   ],
   "source": [
    "class File:\n",
    "    def reading(self):\n",
    "        print(\"Reading file content...\")\n",
    "\n",
    "class MemoryFile(File):\n",
    "    def reading(self):\n",
    "        print(\"Reading from memory...\")\n",
    "\n",
    "memoryfile = MemoryFile()\n",
    "\n",
    "memoryfile.reading()  \n"
   ]
  },
  {
   "cell_type": "code",
   "execution_count": null,
   "id": "96c70103",
   "metadata": {},
   "outputs": [],
   "source": [
    "dir(str)"
   ]
  },
  {
   "cell_type": "code",
   "execution_count": null,
   "id": "fff70992",
   "metadata": {},
   "outputs": [],
   "source": [
    "class Text(str):\n",
    "    def duplicate(self):\n",
    "        return self + self\n",
    "    \n",
    "text = Text(\"Python\")"
   ]
  },
  {
   "cell_type": "code",
   "execution_count": null,
   "id": "fc38b1a3",
   "metadata": {},
   "outputs": [],
   "source": [
    "text.upper()"
   ]
  },
  {
   "cell_type": "code",
   "execution_count": null,
   "id": "286e5f2d",
   "metadata": {},
   "outputs": [],
   "source": [
    "dir(Text)"
   ]
  },
  {
   "cell_type": "code",
   "execution_count": null,
   "id": "ffc86db1",
   "metadata": {},
   "outputs": [],
   "source": [
    "text.duplicate()"
   ]
  },
  {
   "cell_type": "code",
   "execution_count": 25,
   "id": "3fe9c24c",
   "metadata": {},
   "outputs": [],
   "source": [
    "class Employee:\n",
    "    def greet(self):\n",
    "        print(\"Employee class\")\n",
    "\n",
    "class Person:\n",
    "    def greet(self):\n",
    "        print(\"Last greet method\")\n",
    "   \n",
    "class Manager(Person, Employee):\n",
    "    def __init__(self):\n",
    "        print(\"Manager class\")\n",
    "\n",
    "class SalesDeptManager(Manager):\n",
    "    pass\n",
    "\n",
    "class MarketingManager(Manager):\n",
    "    pass\n"
   ]
  },
  {
   "cell_type": "code",
   "execution_count": null,
   "id": "f395b4a2-81b9-4abf-a415-ce39e5d58147",
   "metadata": {},
   "outputs": [],
   "source": []
  }
 ],
 "metadata": {
  "kernelspec": {
   "display_name": "Python [conda env:base] *",
   "language": "python",
   "name": "conda-base-py"
  },
  "language_info": {
   "codemirror_mode": {
    "name": "ipython",
    "version": 3
   },
   "file_extension": ".py",
   "mimetype": "text/x-python",
   "name": "python",
   "nbconvert_exporter": "python",
   "pygments_lexer": "ipython3",
   "version": "3.12.7"
  }
 },
 "nbformat": 4,
 "nbformat_minor": 5
}
