{
 "cells": [
  {
   "cell_type": "code",
   "execution_count": 2,
   "id": "8efaaa1d",
   "metadata": {},
   "outputs": [],
   "source": [
    "lst = [1,2,3]"
   ]
  },
  {
   "cell_type": "code",
   "execution_count": 3,
   "id": "f807bb49",
   "metadata": {},
   "outputs": [
    {
     "data": {
      "text/plain": [
       "1"
      ]
     },
     "execution_count": 3,
     "metadata": {},
     "output_type": "execute_result"
    }
   ],
   "source": [
    "lst.count(2)"
   ]
  },
  {
   "cell_type": "code",
   "execution_count": 4,
   "id": "2ff9e0c6",
   "metadata": {},
   "outputs": [
    {
     "name": "stdout",
     "output_type": "stream",
     "text": [
      "<class 'int'>\n",
      "<class 'list'>\n",
      "<class 'tuple'>\n",
      "<class 'dict'>\n"
     ]
    }
   ],
   "source": [
    "print(type(1))\n",
    "print(type([]))\n",
    "print(type(()))\n",
    "print(type({}))"
   ]
  },
  {
   "cell_type": "code",
   "execution_count": 5,
   "id": "d4ee0df8",
   "metadata": {},
   "outputs": [
    {
     "name": "stdout",
     "output_type": "stream",
     "text": [
      "<class '__main__.Sample'>\n"
     ]
    }
   ],
   "source": [
    "class Sample:\n",
    "    pass\n",
    "\n",
    "x = Sample()\n",
    "\n",
    "print(type(x))"
   ]
  },
  {
   "cell_type": "code",
   "execution_count": 6,
   "id": "7c963764",
   "metadata": {},
   "outputs": [],
   "source": [
    "class Dog:\n",
    "    def __init__(self,breed):\n",
    "        self.breed = breed\n",
    "        \n",
    "sam = Dog(breed='Lab')\n",
    "frank = Dog(breed='Huskie')"
   ]
  },
  {
   "cell_type": "code",
   "execution_count": 4,
   "id": "d7298f24",
   "metadata": {},
   "outputs": [],
   "source": [
    "\n",
    "class Dog:\n",
    "    pass"
   ]
  },
  {
   "cell_type": "code",
   "execution_count": 6,
   "id": "18cb1ebc",
   "metadata": {},
   "outputs": [],
   "source": [
    "obj = Dog()\n"
   ]
  },
  {
   "cell_type": "code",
   "execution_count": 7,
   "id": "ee93a7bd",
   "metadata": {},
   "outputs": [
    {
     "name": "stdout",
     "output_type": "stream",
     "text": [
      "Rodger is a mammal\n",
      "Tommy is also a mammal\n",
      "My name is Rodger\n",
      "My name is Tommy\n"
     ]
    }
   ],
   "source": [
    "class Dog:\n",
    "\n",
    "\tattr1 = \"mammal\"\n",
    "\n",
    "\tdef __init__(self, name):\n",
    "\t\tself.name = name\n",
    "\n",
    "Rodger = Dog(\"Rodger\")\n",
    "Tommy = Dog(\"Tommy\")\n",
    "\n",
    "print(\"Rodger is a {}\".format(Rodger.__class__.attr1))\n",
    "print(\"Tommy is also a {}\".format(Tommy.__class__.attr1))\n",
    "\n",
    "print(\"My name is {}\".format(Rodger.name))\n",
    "print(\"My name is {}\".format(Tommy.name))\n",
    "\n"
   ]
  },
  {
   "cell_type": "code",
   "execution_count": 8,
   "id": "93d3ad8d",
   "metadata": {},
   "outputs": [
    {
     "name": "stdout",
     "output_type": "stream",
     "text": [
      "My name is Rodger\n",
      "My name is Tommy\n"
     ]
    }
   ],
   "source": [
    "class Dog:\n",
    "\n",
    "\tattr1 = \"mammal\"\n",
    "\n",
    "\tdef __init__(self, name):\n",
    "\t\tself.name = name\n",
    "\t\t\n",
    "\tdef speak(self):\n",
    "\t\tprint(\"My name is {}\".format(self.name))\n",
    "\n",
    "\n",
    "Rodger = Dog(\"Rodger\")\n",
    "Tommy = Dog(\"Tommy\")\n",
    "\n",
    "# Accessing class methods\n",
    "Rodger.speak()\n",
    "Tommy.speak()\n"
   ]
  },
  {
   "cell_type": "code",
   "execution_count": 1,
   "id": "0edec512",
   "metadata": {},
   "outputs": [],
   "source": [
    "#example of a function\n",
    "def say_hello():\n",
    "    print('hello Edunet')"
   ]
  },
  {
   "cell_type": "code",
   "execution_count": 2,
   "id": "ae5cd3fd",
   "metadata": {},
   "outputs": [
    {
     "name": "stdout",
     "output_type": "stream",
     "text": [
      "hello Edunet\n"
     ]
    }
   ],
   "source": [
    "say_hello()"
   ]
  },
  {
   "cell_type": "code",
   "execution_count": 3,
   "id": "8209ccf9",
   "metadata": {},
   "outputs": [
    {
     "data": {
      "text/plain": [
       "8"
      ]
     },
     "execution_count": 3,
     "metadata": {},
     "output_type": "execute_result"
    }
   ],
   "source": [
    "def add_num(num1,num2):\n",
    "    return num1+num2\n",
    "add_num(2,6)"
   ]
  },
  {
   "cell_type": "code",
   "execution_count": 4,
   "id": "25cf1c4a",
   "metadata": {},
   "outputs": [],
   "source": [
    "def check_even_list(num_list):\n",
    "    even_numbers = []    \n",
    "    for number in num_list:\n",
    "        if number % 2 == 0:\n",
    "            even_numbers.append(number)\n",
    "        else:\n",
    "            pass\n",
    "    return even_numbers"
   ]
  },
  {
   "cell_type": "code",
   "execution_count": 3,
   "id": "73160276",
   "metadata": {},
   "outputs": [
    {
     "ename": "SyntaxError",
     "evalue": "invalid syntax (180006436.py, line 1)",
     "output_type": "error",
     "traceback": [
      "\u001b[1;36m  Cell \u001b[1;32mIn[3], line 1\u001b[1;36m\u001b[0m\n\u001b[1;33m    check_even_list([1,2,3,4,5,6])|\u001b[0m\n\u001b[1;37m                                   ^\u001b[0m\n\u001b[1;31mSyntaxError\u001b[0m\u001b[1;31m:\u001b[0m invalid syntax\n"
     ]
    }
   ],
   "source": [
    "check_even_list([1,2,3,4,5,6])|"
   ]
  },
  {
   "cell_type": "code",
   "execution_count": null,
   "id": "7dcefc65-da5b-4a3c-b21c-dcebca4ae782",
   "metadata": {},
   "outputs": [],
   "source": []
  },
  {
   "cell_type": "code",
   "execution_count": 20,
   "id": "c117d368-7b13-4eea-8bda-9d42edc7dcdb",
   "metadata": {},
   "outputs": [
    {
     "name": "stdout",
     "output_type": "stream",
     "text": [
      "Rahul\n",
      "886012\n",
      "My name is: Rahul\n",
      "Idnumber: 886012\n",
      "Post: Intern\n"
     ]
    }
   ],
   "source": [
    "class Person(object):\n",
    "    def __init__(self,name,idnumber):\n",
    "        self.name = name\n",
    "        self.idnumber =idnumber\n",
    "    def display(self):\n",
    "        print(self.name)\n",
    "        print(self.idnumber)\n",
    "    def details(self):\n",
    "        print(\"My name is {}\",format(self.name))\n",
    "        print(\"Idnumber: {}\".format(self.idnumber))\n",
    "\n",
    "class Employee(Person):\n",
    "    def __init__(self,name,idnumber,salary,post):\n",
    "        self.salary = salary\n",
    "        self.post = post\n",
    "\n",
    "        Person.__init__(self,name,idnumber)\n",
    "\n",
    "    def details(self):\n",
    "        print(\"My name is: {}\".format(self.name))\n",
    "        print(\"Idnumber: {}\".format(self.idnumber))\n",
    "        print(\"Post: {}\".format(self.post))\n",
    "\n",
    "a = Employee('Rahul',886012,2000000,'Intern')\n",
    "a.display()\n",
    "a.details()"
   ]
  },
  {
   "cell_type": "code",
   "execution_count": 30,
   "id": "ff5ff6db-1fac-431b-94b0-028b03b6c49b",
   "metadata": {},
   "outputs": [
    {
     "name": "stdout",
     "output_type": "stream",
     "text": [
      "Child:\n",
      "Aditya (Dad) is initialized.\n",
      "Jagrut (Mom) is initialized.\n",
      "Atharva (Child) is initialized.\n",
      "Jagrut is working.\n",
      "Jagrut is cooking.\n",
      "\n",
      "GrandChild:\n",
      "Aditya (Dad) is initialized.\n",
      "Jagrut (Mom) is initialized.\n",
      "Atharva (Child) is initialized.\n",
      "Karan (Grandchild) is initialized.\n",
      "Jagrut is driving.\n",
      "Jagrut is shopping.\n",
      "Atharva is playing.\n"
     ]
    }
   ],
   "source": [
    "class Dad:\n",
    "    def __init__(self, name):\n",
    "        self.name = name\n",
    "        print(f\"{self.name} (Dad) is initialized.\")\n",
    "\n",
    "    def work(self):\n",
    "        print(f\"{self.name} is working.\")\n",
    "\n",
    "    def drive(self):\n",
    "        print(f\"{self.name} is driving.\")\n",
    "\n",
    "class Mom:\n",
    "    def __init__(self, name):\n",
    "        self.name = name\n",
    "        print(f\"{self.name} (Mom) is initialized.\")\n",
    "\n",
    "    def cook(self):\n",
    "        print(f\"{self.name} is cooking.\")\n",
    "\n",
    "    def shop(self):\n",
    "        print(f\"{self.name} is shopping.\")\n",
    "\n",
    "class Child(Dad, Mom):\n",
    "    def __init__(self, dad_name, mom_name, child_name):\n",
    "        Dad.__init__(self, dad_name)\n",
    "        Mom.__init__(self, mom_name)\n",
    "        self.child_name = child_name\n",
    "        print(f\"{self.child_name} (Child) is initialized.\")\n",
    "\n",
    "    def play(self):\n",
    "        print(f\"{self.child_name} is playing.\")\n",
    "\n",
    "    def use_methods(self):\n",
    "        self.work()\n",
    "        self.cook()\n",
    "\n",
    "class GrandChild(Child):\n",
    "    def __init__(self, dad_name, mom_name, child_name, grandchild_name):\n",
    "        super().__init__(dad_name, mom_name, child_name)\n",
    "        self.grandchild_name = grandchild_name\n",
    "        print(f\"{self.grandchild_name} (Grandchild) is initialized.\")\n",
    "\n",
    "    def study(self):\n",
    "        print(f\"{self.grandchild_name} is studying.\")\n",
    "\n",
    "    def use_methods(self):\n",
    "        self.drive()\n",
    "        self.shop()\n",
    "        self.play()\n",
    "\n",
    "print(\"Child:\")\n",
    "c = Child(\"Aditya\", \"Jagrut\", \"Atharva\")\n",
    "c.use_methods()  \n",
    "\n",
    "print(\"\\nGrandChild:\")\n",
    "g = GrandChild(\"Aditya\", \"Jagrut\", \"Atharva\", \"Karan\")\n",
    "g.use_methods()\n"
   ]
  },
  {
   "cell_type": "code",
   "execution_count": 32,
   "id": "74ecf320-ac44-4ca5-bd8e-4b76b9fdcd80",
   "metadata": {},
   "outputs": [
    {
     "name": "stdout",
     "output_type": "stream",
     "text": [
      "Is Palindrome: True\n",
      "Is Prime: True\n",
      "Is Armstrong: True\n"
     ]
    }
   ],
   "source": [
    "class Number:\n",
    "    def __init__(self, num):\n",
    "        self.num = num\n",
    "\n",
    "    def display(self):\n",
    "        print(f\"Number: {self.num}\")\n",
    "\n",
    "\n",
    "class Palindrome(Number):\n",
    "    def is_palindrome(self):\n",
    "        return str(self.num) == str(self.num)[::-1]\n",
    "\n",
    "\n",
    "class Prime(Number):\n",
    "    def is_prime(self):\n",
    "        if self.num < 2:\n",
    "            return False\n",
    "        for i in range(2, int(self.num ** 0.5) + 1):\n",
    "            if self.num % i == 0:\n",
    "                return False\n",
    "        return True\n",
    "\n",
    "\n",
    "class Armstrong(Number):\n",
    "    def is_armstrong(self):\n",
    "        num_str = str(self.num)\n",
    "        num_length = len(num_str)\n",
    "        return self.num == sum(int(digit) ** num_length for digit in num_str)\n",
    "\n",
    "\n",
    "num1 = Palindrome(121)\n",
    "print(f\"Is Palindrome: {num1.is_palindrome()}\")\n",
    "\n",
    "num2 = Prime(17)\n",
    "print(f\"Is Prime: {num2.is_prime()}\")\n",
    "\n",
    "num3 = Armstrong(153)\n",
    "print(f\"Is Armstrong: {num3.is_armstrong()}\")\n"
   ]
  },
  {
   "cell_type": "code",
   "execution_count": 37,
   "id": "514f4d54-efb1-4490-ba6c-ce642751ea3f",
   "metadata": {},
   "outputs": [
    {
     "name": "stdout",
     "output_type": "stream",
     "text": [
      "This is Facebook community. This is Instagram community. This is WhatsApp community. \n"
     ]
    }
   ],
   "source": [
    "class Facebook:\n",
    "    def community(self):\n",
    "        return \"This is Facebook community. \"\n",
    "\n",
    "class Instagram:\n",
    "    def community(self):\n",
    "        return \"This is Instagram community. \"\n",
    "\n",
    "class WhatsApp:\n",
    "    def community(self):\n",
    "        return \"This is WhatsApp community. \"\n",
    "\n",
    "x = Facebook()\n",
    "y = Instagram()\n",
    "z = WhatsApp()\n",
    "\n",
    "result = x.community() + y.community() + z.community()\n",
    "print(result)\n"
   ]
  },
  {
   "cell_type": "code",
   "execution_count": null,
   "id": "3d0922d1-f303-4981-bcdf-80c5c5a50719",
   "metadata": {},
   "outputs": [],
   "source": []
  }
 ],
 "metadata": {
  "kernelspec": {
   "display_name": "Python 3 (ipykernel)",
   "language": "python",
   "name": "python3"
  },
  "language_info": {
   "codemirror_mode": {
    "name": "ipython",
    "version": 3
   },
   "file_extension": ".py",
   "mimetype": "text/x-python",
   "name": "python",
   "nbconvert_exporter": "python",
   "pygments_lexer": "ipython3",
   "version": "3.12.7"
  }
 },
 "nbformat": 4,
 "nbformat_minor": 5
}
