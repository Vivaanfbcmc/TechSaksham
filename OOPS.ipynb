{
 "cells": [
  {
   "cell_type": "code",
   "execution_count": 14,
   "id": "0e4b17af-1da1-4292-be90-6cbea4cb52c2",
   "metadata": {},
   "outputs": [
    {
     "name": "stdout",
     "output_type": "stream",
     "text": [
      "Toyota 2016\n"
     ]
    }
   ],
   "source": [
    "class car:\n",
    "    def __init__(self,modelname,year):\n",
    "        self.modelname = modelname\n",
    "        self.year = year\n",
    "    def display(self):\n",
    "        print(self.modelname,self.year)\n",
    "\n",
    "c1 = car(\"Toyota\",2016)\n",
    "car.display(c1)"
   ]
  },
  {
   "cell_type": "code",
   "execution_count": 28,
   "id": "51c43265-0570-4acf-a17d-8d10c9ee5b02",
   "metadata": {},
   "outputs": [
    {
     "name": "stdin",
     "output_type": "stream",
     "text": [
      "Enter roll no:  231\n",
      "Enter roll no:  1\n",
      "Enter roll no:  31\n",
      "Enter roll no:  3\n",
      "Enter roll no:  \n"
     ]
    },
    {
     "name": "stdout",
     "output_type": "stream",
     "text": [
      "Sorted Roll Numbers: ['', '1', '231', '3', '31']\n",
      "John Doe 101\n"
     ]
    }
   ],
   "source": [
    "class Student:\n",
    "    def __init__(self, stdname, stdno):\n",
    "        self.stdname = stdname\n",
    "        self.stdno = stdno\n",
    "\n",
    "    def display(self):\n",
    "        print(self.stdname, self.stdno)\n",
    "\n",
    "    def arrange(self):\n",
    "        self.roll_numbers = []\n",
    "        for i in range(5):\n",
    "            a = input(\"Enter roll no: \")\n",
    "            self.roll_numbers.append(a)\n",
    "        print(\"Sorted Roll Numbers:\", sorted(self.roll_numbers))  \n",
    "\n",
    "student1 = Student(\"John Doe\", 101)\n",
    "\n",
    "student1.arrange()\n",
    "\n",
    "student1.display()\n"
   ]
  },
  {
   "cell_type": "code",
   "execution_count": 34,
   "id": "3bcd4860-03f7-4ba9-956b-061f6aa05560",
   "metadata": {},
   "outputs": [
    {
     "name": "stdout",
     "output_type": "stream",
     "text": [
      "Book \"Moby Dick\" added to the library.\n",
      "Book \"2000\" added to the library.\n",
      "Book \"Atomic Habits\" added to the library.\n",
      "Books in the library:\n",
      "- Moby Dick\n",
      "- 2000\n",
      "- Atomic Habits\n",
      "Book \"2010\" not found in the library.\n",
      "Books in the library:\n",
      "- Moby Dick\n",
      "- 2000\n",
      "- Atomic Habits\n"
     ]
    }
   ],
   "source": [
    "class Library:\n",
    "    def __init__(self):\n",
    "        self.books = []  \n",
    "\n",
    "    def add_book(self, title):\n",
    "        self.books.append(title)\n",
    "        print(f'Book \"{title}\" added to the library.')\n",
    "\n",
    "    def remove_book(self, title):\n",
    "        if title in self.books:\n",
    "            self.books.remove(title)\n",
    "            print(f'Book \"{title}\" removed from the library.')\n",
    "        else:\n",
    "            print(f'Book \"{title}\" not found in the library.')\n",
    "\n",
    "    def list_books(self):\n",
    "        if self.books:\n",
    "            print(\"Books in the library:\")\n",
    "            for book in self.books:\n",
    "                print(f\"- {book}\")\n",
    "        else:\n",
    "            print(\"No books in the library.\")\n",
    "\n",
    "my_library = Library()\n",
    "\n",
    "my_library.add_book(\"Moby Dick\")\n",
    "my_library.add_book(\"2000\")\n",
    "my_library.add_book(\"Atomic Habits\")\n",
    "\n",
    "my_library.list_books()\n",
    "\n",
    "my_library.remove_book(\"2010\")\n",
    "\n",
    "my_library.list_books()\n"
   ]
  },
  {
   "cell_type": "code",
   "execution_count": null,
   "id": "936628e1-458f-413f-b448-47a12da9a609",
   "metadata": {},
   "outputs": [],
   "source": []
  }
 ],
 "metadata": {
  "kernelspec": {
   "display_name": "Python 3 (ipykernel)",
   "language": "python",
   "name": "python3"
  },
  "language_info": {
   "codemirror_mode": {
    "name": "ipython",
    "version": 3
   },
   "file_extension": ".py",
   "mimetype": "text/x-python",
   "name": "python",
   "nbconvert_exporter": "python",
   "pygments_lexer": "ipython3",
   "version": "3.12.7"
  }
 },
 "nbformat": 4,
 "nbformat_minor": 5
}
